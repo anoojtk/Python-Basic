{
 "cells": [
  {
   "cell_type": "code",
   "execution_count": 1,
   "id": "7699a171",
   "metadata": {},
   "outputs": [
    {
     "name": "stdout",
     "output_type": "stream",
     "text": [
      "[1, 2, 3, 4, 5, 6, 7, 8]\n"
     ]
    }
   ],
   "source": [
    "mylist=[1,2,3,4,5,6,7,8]\n",
    "print(mylist)"
   ]
  },
  {
   "cell_type": "code",
   "execution_count": 2,
   "id": "8eddbadf",
   "metadata": {},
   "outputs": [
    {
     "name": "stdout",
     "output_type": "stream",
     "text": [
      "[1, 2, 3, 4, 5, 6, 7, 8, 'anooj', 44, 55, 66, 77]\n"
     ]
    }
   ],
   "source": [
    "mylist1=['anooj',44,55,66,77]\n",
    "c=mylist+mylist1\n",
    "print(c)"
   ]
  },
  {
   "cell_type": "code",
   "execution_count": 4,
   "id": "bde02766",
   "metadata": {},
   "outputs": [
    {
     "name": "stdout",
     "output_type": "stream",
     "text": [
      "[3, 4, 5, 6, 7]\n"
     ]
    }
   ],
   "source": [
    "mylist2=[1,2,3,4,5,6,7,8,9]\n",
    "print(mylist2[2:7])\n"
   ]
  },
  {
   "cell_type": "code",
   "execution_count": 7,
   "id": "f516e009",
   "metadata": {},
   "outputs": [
    {
     "name": "stdout",
     "output_type": "stream",
     "text": [
      "[1, 2, 3, 4, 5, 6]\n"
     ]
    }
   ],
   "source": [
    "mytuple=(1,2,3,4,5,6)\n",
    "mytuple=list(mytuple)\n",
    "print(mytuple)\n"
   ]
  },
  {
   "cell_type": "code",
   "execution_count": 23,
   "id": "63ed75a1",
   "metadata": {},
   "outputs": [
    {
     "name": "stdout",
     "output_type": "stream",
     "text": [
      "[1, 2, 'red', 3, 4, 5, 6, 'football']\n",
      "6\n"
     ]
    }
   ],
   "source": [
    "mytuple=(1,2,3,4,5,6)\n",
    "mytuple=list(mytuple)\n",
    "mytuple.insert(2,'red')\n",
    "mytuple.append('football')\n",
    "print(mytuple)\n",
    "tuple(mytuple)\n",
    "print(mytuple[-2])"
   ]
  },
  {
   "cell_type": "code",
   "execution_count": 27,
   "id": "cd010955",
   "metadata": {},
   "outputs": [
    {
     "name": "stdout",
     "output_type": "stream",
     "text": [
      "{1, 2, 3, 4, 5, 6, 7, 'red'}\n",
      "{1, 2, 3, 4, 5, 6, 7}\n"
     ]
    }
   ],
   "source": [
    "set1={1,2,3,4,5,6,7}\n",
    "set1.add('red')\n",
    "print(set1)\n",
    "set1.remove('red')\n",
    "print(set1)\n"
   ]
  },
  {
   "cell_type": "code",
   "execution_count": 39,
   "id": "bdf32397",
   "metadata": {},
   "outputs": [
    {
     "name": "stdout",
     "output_type": "stream",
     "text": [
      "eneter your height176\n",
      "enter your weight67.9\n",
      "21.920196280991735\n",
      "Your weight is normal.\n"
     ]
    }
   ],
   "source": [
    "def body(height,weight):\n",
    "    bmi=(weight/height**2)*10000\n",
    "    print(bmi)\n",
    "    if bmi<=18.5:\n",
    "        print('you are under weight')\n",
    "    elif 18.5 < bmi <= 24.9:\n",
    "        print(\"Your weight is normal.\")\n",
    "    elif 25 < bmi <= 29.29:\n",
    "        print(\"You are overweight.\")\n",
    "    else:\n",
    "        print(\"You are obese.\")    \n",
    "h=float(input('eneter your height'))\n",
    "w=float(input('enter your weight'))\n",
    "body(h,w)\n"
   ]
  },
  {
   "cell_type": "code",
   "execution_count": 43,
   "id": "5e664fc0",
   "metadata": {},
   "outputs": [
    {
     "name": "stdout",
     "output_type": "stream",
     "text": [
      "10 * 1 = 10\n",
      "10 * 2 = 20\n",
      "10 * 3 = 30\n",
      "10 * 4 = 40\n",
      "10 * 5 = 50\n",
      "10 * 6 = 60\n",
      "10 * 7 = 70\n",
      "10 * 8 = 80\n",
      "10 * 9 = 90\n",
      "10 * 10 = 100\n"
     ]
    }
   ],
   "source": [
    "num=10\n",
    "for i in range(1, 11):\n",
    "    print(num, '*', i, '=', num*i)"
   ]
  },
  {
   "cell_type": "code",
   "execution_count": 55,
   "id": "d997d5b2",
   "metadata": {},
   "outputs": [
    {
     "name": "stdout",
     "output_type": "stream",
     "text": [
      "12 * 0 = 0\n",
      "12 * 1 = 144\n",
      "12 * 2 = 288\n",
      "12 * 3 = 432\n",
      "12 * 4 = 576\n",
      "12 * 5 = 720\n",
      "12 * 6 = 864\n",
      "12 * 7 = 1008\n",
      "12 * 8 = 1152\n",
      "12 * 9 = 1296\n",
      "12 * 10 = 1440\n",
      "12 * 11 = 1584\n"
     ]
    }
   ],
   "source": [
    "num=12\n",
    "for i in range(12):\n",
    "    print(num,'*',i,'=',num*num*i)"
   ]
  },
  {
   "cell_type": "code",
   "execution_count": 2,
   "id": "0c21164c",
   "metadata": {},
   "outputs": [
    {
     "name": "stdout",
     "output_type": "stream",
     "text": [
      "0\n",
      "1\n",
      "1\n",
      "2\n",
      "3\n",
      "5\n",
      "8\n",
      "13\n",
      "21\n",
      "34\n"
     ]
    }
   ],
   "source": [
    "def fibonacci(num):\n",
    "    a=0\n",
    "    b=1\n",
    "    print(a)\n",
    "    print(b)\n",
    "    for i in range(2,num):\n",
    "        c=a+b\n",
    "        a=b\n",
    "        b=c\n",
    "        print(c)\n",
    "fibonacci(10)"
   ]
  },
  {
   "cell_type": "code",
   "execution_count": 5,
   "id": "0c542622",
   "metadata": {},
   "outputs": [
    {
     "name": "stdout",
     "output_type": "stream",
     "text": [
      "enter a area22\n",
      "area is 1519.76\n"
     ]
    }
   ],
   "source": [
    "def area(r):\n",
    "    pi=3.14*r*r\n",
    "    print('area is',pi)\n",
    "a=float(input('enter a area'))\n",
    "area(a)"
   ]
  },
  {
   "cell_type": "code",
   "execution_count": 6,
   "id": "c5709790",
   "metadata": {},
   "outputs": [
    {
     "name": "stdout",
     "output_type": "stream",
     "text": [
      "enter a cube22\n",
      "cube is 10648.0\n"
     ]
    }
   ],
   "source": [
    "def volu(c):\n",
    "    cu=c*c*c\n",
    "    print('cube is',cu)\n",
    "a=float(input('enter a cube'))\n",
    "volu(a)"
   ]
  },
  {
   "cell_type": "code",
   "execution_count": 1,
   "id": "d3787d5a",
   "metadata": {},
   "outputs": [
    {
     "name": "stdout",
     "output_type": "stream",
     "text": [
      "enter length34\n",
      "enter weidth45\n",
      "rectangle area is 1530.0\n"
     ]
    }
   ],
   "source": [
    "def rect(x,y):\n",
    "    area=x*y\n",
    "    print('rectangle area is',area)\n",
    "a=float(input('enter length'))\n",
    "b=float(input('enter weidth'))\n",
    "rect(a,b)\n"
   ]
  },
  {
   "cell_type": "code",
   "execution_count": 2,
   "id": "268e453b",
   "metadata": {},
   "outputs": [
    {
     "name": "stdout",
     "output_type": "stream",
     "text": [
      "enter a meter2\n",
      "perimeter area is 8.0\n"
     ]
    }
   ],
   "source": [
    "def perimeter(x):\n",
    "    meter=4*x\n",
    "    print('perimeter area is',meter)\n",
    "a=float(input('enter a meter'))\n",
    "perimeter(a)"
   ]
  },
  {
   "cell_type": "code",
   "execution_count": 3,
   "id": "0a66a147",
   "metadata": {},
   "outputs": [
    {
     "name": "stdout",
     "output_type": "stream",
     "text": [
      "Enter your sentence: anooj\n",
      "a\n",
      "o\n"
     ]
    }
   ],
   "source": [
    "sentence = input('Enter your sentence: ')\n",
    "for vowel in 'aeiou':\n",
    "    if vowel in sentence:\n",
    "        print(vowel)"
   ]
  },
  {
   "cell_type": "code",
   "execution_count": 9,
   "id": "d96bf7dc",
   "metadata": {},
   "outputs": [
    {
     "name": "stdout",
     "output_type": "stream",
     "text": [
      "enter a wordwelcome\n",
      "not\n"
     ]
    }
   ],
   "source": [
    "\n",
    "a=str(input('enter a word'))\n",
    "if a==a[::-1]:\n",
    "    print('palindrone')\n",
    "else:\n",
    "    print('not')"
   ]
  },
  {
   "cell_type": "code",
   "execution_count": 10,
   "id": "213a1603",
   "metadata": {},
   "outputs": [
    {
     "name": "stdout",
     "output_type": "stream",
     "text": [
      "enter a number4\n",
      "Palindrome\n"
     ]
    }
   ],
   "source": [
    "pal=int(input('enter a number'))\n",
    "reverse = int(str(pal)[::-1])\n",
    "if pal == reverse:\n",
    "    print('Palindrome')\n",
    "else:\n",
    "    print(\"Not Palindrome\")"
   ]
  },
  {
   "cell_type": "code",
   "execution_count": 12,
   "id": "0784fc16",
   "metadata": {},
   "outputs": [
    {
     "name": "stdout",
     "output_type": "stream",
     "text": [
      "enter a number12345\n",
      "1\n",
      "3\n",
      "6\n",
      "10\n",
      "15\n"
     ]
    }
   ],
   "source": [
    "\n",
    "n=int(input('enter a number'))\n",
    "sum = 0\n",
    "for i in str(n):\n",
    "    sum += int(i)\n",
    "    print(sum)"
   ]
  },
  {
   "cell_type": "code",
   "execution_count": 13,
   "id": "cbd05797",
   "metadata": {},
   "outputs": [
    {
     "name": "stdout",
     "output_type": "stream",
     "text": [
      "enter numbers12345\n",
      "54321\n"
     ]
    }
   ],
   "source": [
    "\n",
    "rev=int(input('enter numbers'))\n",
    "print(str(rev)[::-1])"
   ]
  },
  {
   "cell_type": "code",
   "execution_count": 1,
   "id": "8bdd5976",
   "metadata": {},
   "outputs": [
    {
     "name": "stdout",
     "output_type": "stream",
     "text": [
      "50 30\n",
      "None\n"
     ]
    }
   ],
   "source": [
    "def calculation(a,b):\n",
    "    addition =a+b\n",
    "    subtraction =a-b\n",
    "    print(addition, subtraction)\n",
    "a=calculation(40,10)\n",
    "print(a)\n"
   ]
  },
  {
   "cell_type": "code",
   "execution_count": 2,
   "id": "3185c37d",
   "metadata": {},
   "outputs": [
    {
     "name": "stdout",
     "output_type": "stream",
     "text": [
      "enter a number153\n",
      "1\n",
      "126\n",
      "153\n",
      "not\n"
     ]
    }
   ],
   "source": [
    "enter=(input('enter a number'))\n",
    "sum=0\n",
    "for i in enter:\n",
    "    sum+=int(i)**3\n",
    "    print(sum)\n",
    "if enter==sum:\n",
    "    print('number is armstrong')\n",
    "else:\n",
    "    print('not')\n"
   ]
  },
  {
   "cell_type": "code",
   "execution_count": null,
   "id": "00977394",
   "metadata": {},
   "outputs": [],
   "source": []
  }
 ],
 "metadata": {
  "kernelspec": {
   "display_name": "Python 3 (ipykernel)",
   "language": "python",
   "name": "python3"
  },
  "language_info": {
   "codemirror_mode": {
    "name": "ipython",
    "version": 3
   },
   "file_extension": ".py",
   "mimetype": "text/x-python",
   "name": "python",
   "nbconvert_exporter": "python",
   "pygments_lexer": "ipython3",
   "version": "3.9.13"
  }
 },
 "nbformat": 4,
 "nbformat_minor": 5
}
