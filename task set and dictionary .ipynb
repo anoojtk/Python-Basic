{
 "cells": [
  {
   "cell_type": "code",
   "execution_count": 5,
   "id": "d299c996",
   "metadata": {},
   "outputs": [
    {
     "name": "stdout",
     "output_type": "stream",
     "text": [
      "{1, 2, 3, 4, 5, 6}\n"
     ]
    }
   ],
   "source": [
    "set1={1,2,3,4,5,6}\n",
    "print(set1)"
   ]
  },
  {
   "cell_type": "code",
   "execution_count": 6,
   "id": "56c9a67b",
   "metadata": {},
   "outputs": [
    {
     "name": "stdout",
     "output_type": "stream",
     "text": [
      "{1, 2, 3, 4, 5, 6, 's'}\n"
     ]
    }
   ],
   "source": [
    "set1={1,2,3,4,5,6}\n",
    "set1.add('s')\n",
    "print(set1)"
   ]
  },
  {
   "cell_type": "code",
   "execution_count": 7,
   "id": "3a308118",
   "metadata": {},
   "outputs": [
    {
     "name": "stdout",
     "output_type": "stream",
     "text": [
      "{1, 2, 3, 4, 5, 6}\n"
     ]
    }
   ],
   "source": [
    "set2={1,2,3,4,5,6}\n",
    "set2.discard('s')\n",
    "print(set2)"
   ]
  },
  {
   "cell_type": "code",
   "execution_count": 14,
   "id": "d070dd59",
   "metadata": {},
   "outputs": [
    {
     "name": "stdout",
     "output_type": "stream",
     "text": [
      "{12, 44}\n",
      "{33, 1, 2, 3, 4, 'apple', 12, 44, 'green', 55}\n",
      "{33, 'apple', 55}\n",
      "{1, 2, 3, 4, 'apple', 'green', 33, 55}\n"
     ]
    }
   ],
   "source": [
    "set3={44,12,1,2,3,4,'green'}\n",
    "set4={12,33,44,55,'apple'}\n",
    "x=set3.intersection(set4)\n",
    "y=set4.union(set3)\n",
    "z=set4.difference(set3)\n",
    "u=set4.symmetric_difference(set3)\n",
    "print(x)\n",
    "print(y)\n",
    "print(z)\n",
    "print(u)"
   ]
  },
  {
   "cell_type": "code",
   "execution_count": 16,
   "id": "16de8b3d",
   "metadata": {},
   "outputs": [
    {
     "name": "stdout",
     "output_type": "stream",
     "text": [
      "True\n"
     ]
    }
   ],
   "source": [
    "ab={1,2,3,4,5,6}\n",
    "cd={1,2,3,4,5,6}\n",
    "x=ab.issubset(cd)\n",
    "print(x)"
   ]
  },
  {
   "cell_type": "code",
   "execution_count": 21,
   "id": "405a5232",
   "metadata": {},
   "outputs": [
    {
     "name": "stdout",
     "output_type": "stream",
     "text": [
      "{1, 2, 3, 4, 5, 6}\n"
     ]
    }
   ],
   "source": [
    "ab={1,2,3,4,5,6}\n",
    "x=ab.copy()\n",
    "print(x)"
   ]
  },
  {
   "cell_type": "code",
   "execution_count": 22,
   "id": "e2ac710b",
   "metadata": {},
   "outputs": [
    {
     "name": "stdout",
     "output_type": "stream",
     "text": [
      "set()\n"
     ]
    }
   ],
   "source": [
    "new={1,2,3,5,6,7,8}\n",
    "new.clear()\n",
    "print(new)"
   ]
  },
  {
   "cell_type": "code",
   "execution_count": 28,
   "id": "004f8e33",
   "metadata": {},
   "outputs": [
    {
     "name": "stdout",
     "output_type": "stream",
     "text": [
      "8\n"
     ]
    }
   ],
   "source": [
    "a={1,2,3,4,5,6,7,8}\n",
    "b=len(a)\n",
    "print(b)"
   ]
  },
  {
   "cell_type": "code",
   "execution_count": 32,
   "id": "cd367cef",
   "metadata": {},
   "outputs": [
    {
     "name": "stdout",
     "output_type": "stream",
     "text": [
      "{'name': 'anooj', 'year': 2001, 'age': 21, 'income': 20000}\n"
     ]
    }
   ],
   "source": [
    "di={'name':'anooj','year':2001,'age':21}\n",
    "di.update({'income':20000})\n",
    "print(di)\n"
   ]
  },
  {
   "cell_type": "code",
   "execution_count": 35,
   "id": "093cd0d9",
   "metadata": {},
   "outputs": [
    {
     "name": "stdout",
     "output_type": "stream",
     "text": [
      "{'year': 2001, 'age': 21}\n"
     ]
    }
   ],
   "source": [
    "bi={'name':'anooj','year':2001,'age':21}\n",
    "bi.pop('name')\n",
    "print(bi)"
   ]
  },
  {
   "cell_type": "code",
   "execution_count": 36,
   "id": "1111c081",
   "metadata": {},
   "outputs": [
    {
     "name": "stdout",
     "output_type": "stream",
     "text": [
      "{'name': 'anooj', 'gender': 'male', 'year': 2001, 'age': 21, 'income': 20000}\n"
     ]
    }
   ],
   "source": [
    "gi={'name':'anooj','gender':'male','year':2001,'age':21}\n",
    "gi.update({'income':20000})\n",
    "print(gi)"
   ]
  },
  {
   "cell_type": "code",
   "execution_count": 40,
   "id": "30cbccaf",
   "metadata": {},
   "outputs": [
    {
     "name": "stdout",
     "output_type": "stream",
     "text": [
      "1\n",
      "2\n",
      "3\n",
      "4\n",
      "5\n",
      "6\n"
     ]
    }
   ],
   "source": [
    "hi={1,2,3,4,5,6}\n",
    "for i in hi:\n",
    "    print(i)"
   ]
  },
  {
   "cell_type": "code",
   "execution_count": 52,
   "id": "c6747163",
   "metadata": {},
   "outputs": [
    {
     "data": {
      "text/plain": [
       "20"
      ]
     },
     "execution_count": 52,
     "metadata": {},
     "output_type": "execute_result"
    }
   ],
   "source": [
    "ki={2:4,5:8,9:8}\n",
    "sum(ki.values())"
   ]
  },
  {
   "cell_type": "code",
   "execution_count": 53,
   "id": "9f892400",
   "metadata": {},
   "outputs": [
    {
     "name": "stdout",
     "output_type": "stream",
     "text": [
      "set()\n",
      "0\n",
      "no elements in common\n"
     ]
    }
   ],
   "source": [
    "com={1,2,3,4,5,6,7,8}\n",
    "com2={9,10,11,12}\n",
    "x=com.intersection(com2)\n",
    "print(x)\n",
    "b=len(x)\n",
    "print(b)\n",
    "if b>0:\n",
    "    print(\"Two sets have common elements\")\n",
    "else:\n",
    "    print(\"no elements in common\")"
   ]
  },
  {
   "cell_type": "code",
   "execution_count": 54,
   "id": "9a6becdc",
   "metadata": {},
   "outputs": [
    {
     "name": "stdout",
     "output_type": "stream",
     "text": [
      "dict_values([10, 2, 3])\n",
      "15\n"
     ]
    }
   ],
   "source": [
    "y={10:10,2:2,3:3}\n",
    "s=y.values()\n",
    "print(s)\n",
    "sm=0\n",
    "for i in s:\n",
    "    sm=sm+i\n",
    "print(sm)"
   ]
  },
  {
   "cell_type": "code",
   "execution_count": 60,
   "id": "8533bc14",
   "metadata": {},
   "outputs": [
    {
     "name": "stdout",
     "output_type": "stream",
     "text": [
      "dict_values([10, 2, 3])\n",
      "180\n"
     ]
    }
   ],
   "source": [
    "y={11:30,3:2,6:3}\n",
    "m=y.values()\n",
    "print(s)\n",
    "am=1\n",
    "for i in m:\n",
    "    am=am*i\n",
    "print(am)"
   ]
  },
  {
   "cell_type": "code",
   "execution_count": null,
   "id": "31a89d71",
   "metadata": {},
   "outputs": [],
   "source": []
  }
 ],
 "metadata": {
  "kernelspec": {
   "display_name": "Python 3 (ipykernel)",
   "language": "python",
   "name": "python3"
  },
  "language_info": {
   "codemirror_mode": {
    "name": "ipython",
    "version": 3
   },
   "file_extension": ".py",
   "mimetype": "text/x-python",
   "name": "python",
   "nbconvert_exporter": "python",
   "pygments_lexer": "ipython3",
   "version": "3.9.13"
  }
 },
 "nbformat": 4,
 "nbformat_minor": 5
}
