{
 "cells": [
  {
   "cell_type": "markdown",
   "id": "1d53de0d",
   "metadata": {},
   "source": [
    "1.Print first and last name in reverse order with a space between them"
   ]
  },
  {
   "cell_type": "code",
   "execution_count": 3,
   "id": "949af650",
   "metadata": {},
   "outputs": [
    {
     "name": "stdout",
     "output_type": "stream",
     "text": [
      "Input your First Name : you ok\n",
      "Input your Last Name : are\n",
      "hai are you ok\n"
     ]
    }
   ],
   "source": [
    "a = input(\"Input your First Name : \")\n",
    "b = input(\"Input your Last Name : \")\n",
    "print (\"hai \" + b + \" \" + a)\n"
   ]
  },
  {
   "cell_type": "markdown",
   "id": "def2c9b6",
   "metadata": {},
   "source": [
    "2.Generate a list and tuple with comma-separated numbers"
   ]
  },
  {
   "cell_type": "code",
   "execution_count": 7,
   "id": "a785afb5",
   "metadata": {},
   "outputs": [
    {
     "name": "stdout",
     "output_type": "stream",
     "text": [
      "Input some comma seprated numbers : 2 3 4 56 \n",
      "List :  ['2 3 4 56 ']\n",
      "Tuple :  ('2 3 4 56 ',)\n"
     ]
    }
   ],
   "source": [
    "a= input(\"Input some comma seprated numbers : \")\n",
    "list = a.split(\",\")\n",
    "tuple = tuple(list)\n",
    "print('List : ',list)\n",
    "print('Tuple : ',tuple)"
   ]
  },
  {
   "cell_type": "markdown",
   "id": "fb1c359a",
   "metadata": {},
   "source": [
    "3.Calculate the sum of three given numbers, if the values are equal then return thrice of their sum"
   ]
  },
  {
   "cell_type": "code",
   "execution_count": 7,
   "id": "dce882c9",
   "metadata": {},
   "outputs": [
    {
     "name": "stdout",
     "output_type": "stream",
     "text": [
      "enter a number1\n",
      "enter a number1\n",
      "enter a number1\n",
      "9\n"
     ]
    }
   ],
   "source": [
    "a=int(input('enter a number'))\n",
    "b=int(input('enter a number'))\n",
    "c=int(input('enter a number'))\n",
    "sum=a+b+c\n",
    "if a==b==c:\n",
    "    sum=sum*3\n",
    "    print(sum)"
   ]
  },
  {
   "cell_type": "markdown",
   "id": "b5c062e1",
   "metadata": {},
   "source": [
    "4.Get a single string from two given strings, separated by a space and swap the first two characters of each string"
   ]
  },
  {
   "cell_type": "code",
   "execution_count": 8,
   "id": "ea13ecec",
   "metadata": {},
   "outputs": [
    {
     "name": "stdout",
     "output_type": "stream",
     "text": [
      "hai welcome\n",
      "wei halcome\n"
     ]
    }
   ],
   "source": [
    "a='hai'\n",
    "b='welcome'\n",
    "print(a,b)\n",
    "a1 = b[:2] + a[2:]\n",
    "b1 = a[:2] + b[2:]\n",
    "print(a1,b1)"
   ]
  },
  {
   "cell_type": "markdown",
   "id": "251998b2",
   "metadata": {},
   "source": [
    "5.Write a Python program to print out a set containing all the colors from color_list_1 which are not present in color_list_2."
   ]
  },
  {
   "cell_type": "code",
   "execution_count": 11,
   "id": "0e1d933c",
   "metadata": {},
   "outputs": [
    {
     "name": "stdout",
     "output_type": "stream",
     "text": [
      "{'red', 'black', 'green'}\n",
      "{'Red', 'Green'}\n"
     ]
    }
   ],
   "source": [
    "color1 = set([\"red\",\"blue\", \"green\", \"black\"])\n",
    "color2 = set([\"Red\", \"Green\",\"blue\"])\n",
    "print(color1.difference(color2))\n",
    "print(color2.difference(color1))"
   ]
  },
  {
   "cell_type": "markdown",
   "id": "60e54230",
   "metadata": {},
   "source": [
    "6.Convert a given string into a list of words"
   ]
  },
  {
   "cell_type": "code",
   "execution_count": 12,
   "id": "43e782f5",
   "metadata": {},
   "outputs": [
    {
     "name": "stdout",
     "output_type": "stream",
     "text": [
      "['a', 'n', 'o', 'o', 'j']\n"
     ]
    }
   ],
   "source": [
    "a='anooj'\n",
    "print(list(a))"
   ]
  },
  {
   "cell_type": "markdown",
   "id": "dbcc81ae",
   "metadata": {},
   "source": [
    "7.Write a Python function to multiply all the numbers in a list."
   ]
  },
  {
   "cell_type": "code",
   "execution_count": 13,
   "id": "7736b910",
   "metadata": {},
   "outputs": [
    {
     "name": "stdout",
     "output_type": "stream",
     "text": [
      "[1, 4, 9, 16, 25, 36, 49]\n"
     ]
    }
   ],
   "source": [
    "a=[1,2,3,4,5,6,7]\n",
    "li=list(map(lambda x:x*x,a))\n",
    "print(li)"
   ]
  },
  {
   "cell_type": "markdown",
   "id": "8842a779",
   "metadata": {},
   "source": [
    "8.Find common items from two lists"
   ]
  },
  {
   "cell_type": "code",
   "execution_count": 18,
   "id": "f431a3bd",
   "metadata": {},
   "outputs": [
    {
     "name": "stdout",
     "output_type": "stream",
     "text": [
      "[1, 2, 5, 6, 8]\n"
     ]
    }
   ],
   "source": [
    "a=[1,2,3,4,5,6,7,8]\n",
    "b=[6,8,10,12,5,2,1]\n",
    "x=set(a)\n",
    "y=set(b)\n",
    "n=x.intersection(y)\n",
    "print(list(n))"
   ]
  },
  {
   "cell_type": "code",
   "execution_count": null,
   "id": "3b56c05f",
   "metadata": {},
   "outputs": [],
   "source": []
  }
 ],
 "metadata": {
  "kernelspec": {
   "display_name": "Python 3 (ipykernel)",
   "language": "python",
   "name": "python3"
  },
  "language_info": {
   "codemirror_mode": {
    "name": "ipython",
    "version": 3
   },
   "file_extension": ".py",
   "mimetype": "text/x-python",
   "name": "python",
   "nbconvert_exporter": "python",
   "pygments_lexer": "ipython3",
   "version": "3.9.13"
  }
 },
 "nbformat": 4,
 "nbformat_minor": 5
}
