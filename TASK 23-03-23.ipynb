{
 "cells": [
  {
   "cell_type": "markdown",
   "id": "6e010e73",
   "metadata": {},
   "source": [
    "1.\tCreate a class named 'Shape' with a method to print \"This is shape\". Then create two other classes named 'Rectangle', 'Circle' inheriting the Shape class, both having a method to print \"This is rectangular shape\" and \"This is circular shape\" respectively. Create a subclass 'Square' of 'Rectangle' having a method to print \"Square is a rectangle\". Now call the method of 'Shape' and 'Rectangle' class by the object of 'Square' class."
   ]
  },
  {
   "cell_type": "code",
   "execution_count": 1,
   "id": "2de27129",
   "metadata": {},
   "outputs": [
    {
     "name": "stdout",
     "output_type": "stream",
     "text": [
      "this shape\n",
      "this is rectangular shape\n",
      "square is a rectangle\n"
     ]
    }
   ],
   "source": [
    "class shape:\n",
    "    def function(self):\n",
    "        print('this shape')\n",
    "class rectangle(shape):\n",
    "    def function1(self):\n",
    "        print('this is rectangular shape')\n",
    "class circle(shape):\n",
    "    def function2(self):\n",
    "        print('this is circular shape')\n",
    "class square(rectangle):\n",
    "    def function3(self):\n",
    "        print('square is a rectangle')\n",
    "obj=square()\n",
    "obj.function()\n",
    "obj.function1()\n",
    "obj.function3()"
   ]
  },
  {
   "cell_type": "markdown",
   "id": "df4b7a19",
   "metadata": {},
   "source": [
    "2.\tCreate a class circle with method perimeter() and use inheritance to create another class cylinder with method perimeter() from it ."
   ]
  },
  {
   "cell_type": "code",
   "execution_count": 31,
   "id": "f20459c0",
   "metadata": {},
   "outputs": [
    {
     "name": "stdout",
     "output_type": "stream",
     "text": [
      "50.24\n",
      "26\n"
     ]
    }
   ],
   "source": [
    "class circle():\n",
    "    def __init__(self,perimeter):\n",
    "        self.perimeter=perimeter\n",
    "\n",
    "    def area(self):\n",
    "        print(3.14*self.perimeter**2)\n",
    "    \n",
    "class cylinder(circle):\n",
    "    def __init__(self,perimeter,h):\n",
    "        circle.__init__(self,perimeter)\n",
    "        self.h=h\n",
    "        \n",
    "    def ar(self):\n",
    "        print( 4*self.perimeter+(2*self.h))\n",
    "\n",
    "obj=cylinder(4,5)\n",
    "obj.area()\n",
    "obj.ar()\n"
   ]
  },
  {
   "cell_type": "markdown",
   "id": "78a09fd6",
   "metadata": {},
   "source": [
    "3.\tProgram to print employee information with department and pf information using hierarchical inheritance.\tClass BasicInfo with getBasicInfo () – To read name, empid, gender.\tClass deptInfo with deptInfo() – To read dept_name, assignedwork and     time2complete.printDeptInfo() – Display deptInfo\tClass LoanInfo   with \n",
    "       getLoanInfo() –To read loanDeatails and loanAmount.printLoanInfo() – Display name, empid, gender,loanDeatails and loanAmount\n"
   ]
  },
  {
   "cell_type": "code",
   "execution_count": 32,
   "id": "3b9ff6f7",
   "metadata": {},
   "outputs": [
    {
     "name": "stdout",
     "output_type": "stream",
     "text": [
      "anooj\n",
      "589675\n",
      "male\n",
      "20000$\n"
     ]
    }
   ],
   "source": [
    "class basicinfo:\n",
    "    def name(self):\n",
    "        print('anooj')\n",
    "    def empid(self):\n",
    "        print(589675)\n",
    "    def gender(self):\n",
    "        print('male')\n",
    "\n",
    "class display(basicinfo):\n",
    "    def depname(self):\n",
    "        print('technical')\n",
    "    def assigin(self):\n",
    "        print('assignment work time to completed')\n",
    "\n",
    "class loaninfo(display):\n",
    "    def amount(self):\n",
    "        print('20000$')\n",
    "\n",
    "obj=loaninfo()\n",
    "obj.name()\n",
    "obj.empid()\n",
    "obj.gender()\n",
    "obj.amount()"
   ]
  },
  {
   "cell_type": "markdown",
   "id": "8e947038",
   "metadata": {},
   "source": [
    "4.\tCreate a class MyCalculations with following methods –\tdigits () – To find sum of digits of a number\treverse() –To find reverse of a number and a string\n",
    "\n"
   ]
  },
  {
   "cell_type": "code",
   "execution_count": null,
   "id": "0178e894",
   "metadata": {},
   "outputs": [],
   "source": [
    "class mycalculations:\n",
    "    def __init__(self,)"
   ]
  },
  {
   "cell_type": "code",
   "execution_count": 39,
   "id": "5ca5a0af",
   "metadata": {},
   "outputs": [
    {
     "name": "stdout",
     "output_type": "stream",
     "text": [
      "Enter number: 12345\n",
      "Reverse of the number: 54321\n"
     ]
    }
   ],
   "source": [
    "n=int(input(\"Enter number: \"))\n",
    "rev=0\n",
    "while(n>0):\n",
    "    dig=n%10\n",
    "    rev=rev*10+dig\n",
    "    n=n//10\n",
    "print(\"Reverse of the number:\",rev)"
   ]
  },
  {
   "cell_type": "code",
   "execution_count": null,
   "id": "5d8df212",
   "metadata": {},
   "outputs": [],
   "source": []
  }
 ],
 "metadata": {
  "kernelspec": {
   "display_name": "Python 3 (ipykernel)",
   "language": "python",
   "name": "python3"
  },
  "language_info": {
   "codemirror_mode": {
    "name": "ipython",
    "version": 3
   },
   "file_extension": ".py",
   "mimetype": "text/x-python",
   "name": "python",
   "nbconvert_exporter": "python",
   "pygments_lexer": "ipython3",
   "version": "3.9.13"
  }
 },
 "nbformat": 4,
 "nbformat_minor": 5
}
