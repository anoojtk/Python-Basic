{
 "cells": [
  {
   "cell_type": "code",
   "execution_count": 1,
   "id": "b483282c",
   "metadata": {},
   "outputs": [
    {
     "name": "stdout",
     "output_type": "stream",
     "text": [
      "enter a number2\n",
      "number is palindrome\n"
     ]
    }
   ],
   "source": [
    "a=int(input('enter a number'))\n",
    "bc=int(str(a)[::-1])\n",
    "if a==bc:\n",
    "    print('number is palindrome')\n",
    "else:\n",
    "    print('not')"
   ]
  },
  {
   "cell_type": "code",
   "execution_count": 2,
   "id": "ccee8fac",
   "metadata": {},
   "outputs": [
    {
     "name": "stdout",
     "output_type": "stream",
     "text": [
      "divisible by 2 or 3\n",
      "6\n",
      "12\n",
      "18\n"
     ]
    }
   ],
   "source": [
    "a=[]\n",
    "for i in range (1,21):\n",
    "    if i%2 ==0 and i%3 ==0:\n",
    "        a.append(i)\n",
    "print('divisible by 2 or 3')\n",
    "for c in a:\n",
    "            print(c)"
   ]
  },
  {
   "cell_type": "code",
   "execution_count": 3,
   "id": "26018841",
   "metadata": {},
   "outputs": [
    {
     "name": "stdout",
     "output_type": "stream",
     "text": [
      "divisible by 2:\n",
      "2\n",
      "4\n",
      "6\n",
      "8\n",
      "10\n",
      "12\n",
      "14\n",
      "16\n",
      "18\n",
      "20\n"
     ]
    }
   ],
   "source": [
    "b=[]\n",
    "for i in range(1,21):\n",
    "    if i%2==0:\n",
    "        b.append(i)\n",
    "print ('divisible by 2:')\n",
    "for two in b:\n",
    "    print(two)"
   ]
  },
  {
   "cell_type": "code",
   "execution_count": 1,
   "id": "592ef2c0",
   "metadata": {},
   "outputs": [
    {
     "name": "stdout",
     "output_type": "stream",
     "text": [
      "enter a number1234\n",
      "10\n"
     ]
    }
   ],
   "source": [
    "s=(input('enter a number'))\n",
    "sum=0\n",
    "for i in s:\n",
    "    sum=sum+int(i)\n",
    "print(sum)"
   ]
  },
  {
   "cell_type": "code",
   "execution_count": 2,
   "id": "2f3cc3bb",
   "metadata": {},
   "outputs": [
    {
     "name": "stdout",
     "output_type": "stream",
     "text": [
      "Enter a number12\n",
      " divisors of the numbers\n",
      "1\n",
      "2\n",
      "3\n",
      "4\n",
      "6\n",
      "12\n"
     ]
    }
   ],
   "source": [
    "n=int(input(\"Enter a number\"))\n",
    "print(\" divisors of the numbers\")\n",
    "for i in range(1,n+1):\n",
    "    if(n%i==0):\n",
    "        print(i)"
   ]
  },
  {
   "cell_type": "code",
   "execution_count": 3,
   "id": "b3ecf0c8",
   "metadata": {},
   "outputs": [
    {
     "name": "stdout",
     "output_type": "stream",
     "text": [
      "10 x 1 = 10\n",
      "10 x 2 = 20\n",
      "10 x 3 = 30\n",
      "10 x 4 = 40\n",
      "10 x 5 = 50\n",
      "10 x 6 = 60\n",
      "10 x 7 = 70\n",
      "10 x 8 = 80\n",
      "10 x 9 = 90\n",
      "10 x 10 = 100\n"
     ]
    }
   ],
   "source": [
    "num=10\n",
    "for i in range(1,11):\n",
    "    print(num,'x',i,'=',num*i)"
   ]
  },
  {
   "cell_type": "code",
   "execution_count": 4,
   "id": "a40d4b71",
   "metadata": {},
   "outputs": [
    {
     "name": "stdout",
     "output_type": "stream",
     "text": [
      "enter a year2024\n",
      "it is a leap year\n"
     ]
    }
   ],
   "source": [
    "year=int(input('enter a year'))\n",
    "if year%4==0:\n",
    "    print('it is a leap year')\n",
    "else:\n",
    "    print('not leap year')"
   ]
  },
  {
   "cell_type": "code",
   "execution_count": 5,
   "id": "c679c0f1",
   "metadata": {},
   "outputs": [
    {
     "name": "stdout",
     "output_type": "stream",
     "text": [
      "enter your height in centimeter12\n",
      "inch is 4.728\n",
      "feet is 3.936\n"
     ]
    }
   ],
   "source": [
    "a=int(input('enter your height in centimeter'))\n",
    "inch=0.394*a\n",
    "feet=0.328*a\n",
    "print('inch is',inch)\n",
    "print('feet is',feet)"
   ]
  },
  {
   "cell_type": "code",
   "execution_count": 6,
   "id": "87171392",
   "metadata": {},
   "outputs": [
    {
     "name": "stdout",
     "output_type": "stream",
     "text": [
      "enter a number153\n",
      "1\n",
      "126\n",
      "153\n",
      "not\n"
     ]
    }
   ],
   "source": [
    "enter=(input('enter a number'))\n",
    "sum=0\n",
    "for i in enter:\n",
    "    sum+=int(i)**3\n",
    "    print(sum)\n",
    "if enter==sum:\n",
    "    print('number is armstrong')\n",
    "else:\n",
    "    print('not')\n"
   ]
  },
  {
   "cell_type": "code",
   "execution_count": 20,
   "id": "135b2512",
   "metadata": {
    "scrolled": true
   },
   "outputs": [
    {
     "name": "stdout",
     "output_type": "stream",
     "text": [
      "input a number10\n",
      "smallest divisor: 2\n"
     ]
    }
   ],
   "source": [
    "n=int(input('input a number'))\n",
    "a=[]\n",
    "for i in range(2,n+1):\n",
    "    if n%i==0:\n",
    "        a.append(i)\n",
    "a.sort()\n",
    "print('smallest divisor:',a[0])"
   ]
  },
  {
   "cell_type": "code",
   "execution_count": 21,
   "id": "dd15197d",
   "metadata": {},
   "outputs": [
    {
     "name": "stdout",
     "output_type": "stream",
     "text": [
      "enter a value12.33\n",
      "Fahrenheit is 54.194\n"
     ]
    }
   ],
   "source": [
    "a=float(input('enter a value'))\n",
    "fah=(a*1.8)+32\n",
    "print('Fahrenheit is',fah)\n"
   ]
  },
  {
   "cell_type": "code",
   "execution_count": 27,
   "id": "3a82faae",
   "metadata": {},
   "outputs": [
    {
     "name": "stdout",
     "output_type": "stream",
     "text": [
      "enter a number5\n",
      "*****\n",
      " ****\n",
      "  ***\n",
      "   **\n",
      "    *\n"
     ]
    }
   ],
   "source": [
    "n=int(input('enter a number'))\n",
    "for i in range(n,0,-1):\n",
    "    print((n-i)* ' '+ i * '*')\n"
   ]
  },
  {
   "cell_type": "code",
   "execution_count": 2,
   "id": "e2169257",
   "metadata": {},
   "outputs": [
    {
     "name": "stdout",
     "output_type": "stream",
     "text": [
      "enter a triangle value 12\n",
      "enter a triangle value 10\n",
      "enter a triangle value 13\n",
      "56.99506557588999\n"
     ]
    }
   ],
   "source": [
    "a=float(input('enter a triangle value '))\n",
    "b=float(input('enter a triangle value '))\n",
    "c=float(input('enter a triangle value '))\n",
    "d=(a+b+c)/2\n",
    "area=(d*(d-a)*(d-b)*(d-c)) ** 0.5\n",
    "print(area)"
   ]
  },
  {
   "cell_type": "code",
   "execution_count": 3,
   "id": "7dc15e64",
   "metadata": {},
   "outputs": [
    {
     "name": "stdout",
     "output_type": "stream",
     "text": [
      "enter your amount12\n",
      "simple interst 1.7279999999999998\n"
     ]
    }
   ],
   "source": [
    "t=int(input('enter your amount'))\n",
    "v=12\n",
    "w=1.2\n",
    "si=(t*v*w)/100\n",
    "print('simple interst',si)"
   ]
  },
  {
   "cell_type": "code",
   "execution_count": 5,
   "id": "67eaeaa9",
   "metadata": {},
   "outputs": [
    {
     "name": "stdout",
     "output_type": "stream",
     "text": [
      "Enter the first number: 5\n",
      "Enter the second number: 3\n",
      "Quotient is: 1\n",
      "Remainder is: 2\n"
     ]
    }
   ],
   "source": [
    "\n",
    "a=int(input(\"Enter the first number: \"))\n",
    "b=int(input(\"Enter the second number: \"))\n",
    "quotient=a//b\n",
    "remainder=a%b\n",
    "print(\"Quotient is:\",quotient)\n",
    "print(\"Remainder is:\",remainder)"
   ]
  },
  {
   "cell_type": "code",
   "execution_count": 6,
   "id": "c0f3d164",
   "metadata": {},
   "outputs": [
    {
     "name": "stdout",
     "output_type": "stream",
     "text": [
      "enter a number6\n",
      "enter a number5\n",
      "6 5\n",
      "swapimg number is 5 6\n"
     ]
    }
   ],
   "source": [
    "x=int(input('enter a number'))\n",
    "y=int(input('enter a number'))\n",
    "print(x,y)\n",
    "x,y=y,x\n",
    "print('swapimg number is',x,y)"
   ]
  },
  {
   "cell_type": "code",
   "execution_count": 7,
   "id": "fe6ed916",
   "metadata": {},
   "outputs": [
    {
     "name": "stdout",
     "output_type": "stream",
     "text": [
      "enter a number5\n",
      "sum series 2.283333333333333\n"
     ]
    }
   ],
   "source": [
    "n=int(input('enter a number'))\n",
    "sum=0\n",
    "for i in range(1,n+1):\n",
    "    sum=sum+(1/i)\n",
    "print('sum series',sum)\n"
   ]
  },
  {
   "cell_type": "code",
   "execution_count": 8,
   "id": "fc539ef0",
   "metadata": {},
   "outputs": [
    {
     "name": "stdout",
     "output_type": "stream",
     "text": [
      "enter a number4\n",
      "2.083333333333333\n"
     ]
    }
   ],
   "source": [
    "n=int(input('enter a number'))\n",
    "i=1\n",
    "s=0\n",
    "for i in range(1,n+1):\n",
    " s=s+1/i\n",
    "print(s)\n"
   ]
  },
  {
   "cell_type": "code",
   "execution_count": 1,
   "id": "c4b2bfb4",
   "metadata": {},
   "outputs": [
    {
     "name": "stdout",
     "output_type": "stream",
     "text": [
      "enter a striganooj\n",
      "5\n"
     ]
    }
   ],
   "source": [
    "x=input('enter a strig')\n",
    "count=0\n",
    "for i in x:\n",
    "    count=count+1\n",
    "print(count)\n"
   ]
  },
  {
   "cell_type": "code",
   "execution_count": 2,
   "id": "b4d8eecd",
   "metadata": {},
   "outputs": [
    {
     "name": "stdout",
     "output_type": "stream",
     "text": [
      "enter a wordanooj\n",
      "number of string and word 0 6\n"
     ]
    }
   ],
   "source": [
    "word=input('enter a word')\n",
    "count=0\n",
    "char=1\n",
    "for i in word:\n",
    "    char=char+1\n",
    "if i==word:\n",
    "    count=count+1\n",
    "print('number of string and word',count,char)"
   ]
  },
  {
   "cell_type": "code",
   "execution_count": 4,
   "id": "a25a7153",
   "metadata": {},
   "outputs": [
    {
     "name": "stdout",
     "output_type": "stream",
     "text": [
      "enter a nameanooj\n",
      "anooj\n",
      "_a_n_o_o_j_\n"
     ]
    }
   ],
   "source": [
    "new=input('enter a name')\n",
    "print(new)\n",
    "new=new.replace('','_')\n",
    "print(new)\n"
   ]
  },
  {
   "cell_type": "code",
   "execution_count": 1,
   "id": "5ec9c402",
   "metadata": {},
   "outputs": [
    {
     "name": "stdout",
     "output_type": "stream",
     "text": [
      "Enter string:anooj\n",
      "3\n"
     ]
    }
   ],
   "source": [
    "df=input(\"Enter string:\")\n",
    "v=0\n",
    "for i in df:\n",
    "    if(i=='a' or i=='e' or i=='i' or i=='o' or i=='u'):\n",
    "        v=v+1\n",
    "        \n",
    "print(v)\n"
   ]
  },
  {
   "cell_type": "code",
   "execution_count": 11,
   "id": "63eab2f6",
   "metadata": {},
   "outputs": [
    {
     "name": "stdout",
     "output_type": "stream",
     "text": [
      "enter a striganooj\n",
      "enter second stringakash\n",
      "a\n"
     ]
    }
   ],
   "source": [
    "s=input('enter a strig')\n",
    "s1=input('enter second string')\n",
    "a=list(set(s)&set(s1))\n",
    "for i in a:\n",
    "    print(i)\n"
   ]
  },
  {
   "cell_type": "code",
   "execution_count": 3,
   "id": "e599e7b6",
   "metadata": {},
   "outputs": [
    {
     "name": "stdout",
     "output_type": "stream",
     "text": [
      "enter a wordmalayalam\n",
      "palindrone\n"
     ]
    }
   ],
   "source": [
    "a=str(input('enter a word'))\n",
    "if a==a[::-1]:\n",
    "    print('palindrone')\n",
    "else:\n",
    "    print('not')"
   ]
  },
  {
   "cell_type": "code",
   "execution_count": 4,
   "id": "d65021ff",
   "metadata": {},
   "outputs": [
    {
     "name": "stdout",
     "output_type": "stream",
     "text": [
      "Enter first number: 12\n",
      "Enter second number: 14\n",
      "The product is: 168\n"
     ]
    }
   ],
   "source": [
    "n1 = int(input(\"Enter first number: \"))\n",
    "n2 = int(input(\"Enter second number: \"))\n",
    "prod = n1 * n2\n",
    "print(\"The product is:\",prod)"
   ]
  },
  {
   "cell_type": "code",
   "execution_count": null,
   "id": "87cd39dd",
   "metadata": {},
   "outputs": [],
   "source": []
  }
 ],
 "metadata": {
  "kernelspec": {
   "display_name": "Python 3 (ipykernel)",
   "language": "python",
   "name": "python3"
  },
  "language_info": {
   "codemirror_mode": {
    "name": "ipython",
    "version": 3
   },
   "file_extension": ".py",
   "mimetype": "text/x-python",
   "name": "python",
   "nbconvert_exporter": "python",
   "pygments_lexer": "ipython3",
   "version": "3.9.13"
  }
 },
 "nbformat": 4,
 "nbformat_minor": 5
}
