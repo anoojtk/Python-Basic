{
 "cells": [
  {
   "cell_type": "code",
   "execution_count": 8,
   "id": "0c64855b",
   "metadata": {},
   "outputs": [
    {
     "data": {
      "text/plain": [
       "'hai anooj come on'"
      ]
     },
     "execution_count": 8,
     "metadata": {},
     "output_type": "execute_result"
    }
   ],
   "source": [
    "f=open('file 24-03-23.txt','r')\n",
    "f.read()"
   ]
  },
  {
   "cell_type": "code",
   "execution_count": 9,
   "id": "9cc6660d",
   "metadata": {},
   "outputs": [],
   "source": [
    "with open('demo.txt','w')as f2:\n",
    "    f2.write('hello anooj')"
   ]
  },
  {
   "cell_type": "code",
   "execution_count": 11,
   "id": "0ac32be9",
   "metadata": {},
   "outputs": [],
   "source": [
    "with open('demo.txt','w')as d:\n",
    "    d.write('can i help you')\n",
    "    d.write('oh thanks')"
   ]
  },
  {
   "cell_type": "code",
   "execution_count": 14,
   "id": "00224842",
   "metadata": {},
   "outputs": [],
   "source": [
    "with open('demo,txt','a')as d2:\n",
    "    d2.write('hey there')"
   ]
  },
  {
   "cell_type": "code",
   "execution_count": null,
   "id": "b3734cde",
   "metadata": {},
   "outputs": [],
   "source": []
  }
 ],
 "metadata": {
  "kernelspec": {
   "display_name": "Python 3 (ipykernel)",
   "language": "python",
   "name": "python3"
  },
  "language_info": {
   "codemirror_mode": {
    "name": "ipython",
    "version": 3
   },
   "file_extension": ".py",
   "mimetype": "text/x-python",
   "name": "python",
   "nbconvert_exporter": "python",
   "pygments_lexer": "ipython3",
   "version": "3.9.13"
  }
 },
 "nbformat": 4,
 "nbformat_minor": 5
}
