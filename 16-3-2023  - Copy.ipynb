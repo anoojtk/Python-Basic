{
 "cells": [
  {
   "cell_type": "markdown",
   "id": "bd9be9b1",
   "metadata": {},
   "source": [
    " 1.With a given tuple (1,2,3,4,5,6,7,8,9,10), write a program to print the first half values in one line and the last half values in one line."
   ]
  },
  {
   "cell_type": "code",
   "execution_count": 1,
   "id": "4176f932",
   "metadata": {},
   "outputs": [
    {
     "name": "stdout",
     "output_type": "stream",
     "text": [
      "(1, 2, 3, 4, 5)\n",
      "(6, 7, 8, 9, 10)\n"
     ]
    },
    {
     "data": {
      "text/plain": [
       "tuple"
      ]
     },
     "execution_count": 1,
     "metadata": {},
     "output_type": "execute_result"
    }
   ],
   "source": [
    "tu=(1,2,3,4,5,6,7,8,9,10)\n",
    "a=list(tu)\n",
    "print(tuple(tu[0:5]))\n",
    "print(tuple(tu[5::]))\n",
    "type(tu)"
   ]
  },
  {
   "cell_type": "markdown",
   "id": "1bb21f65",
   "metadata": {},
   "source": [
    "  2.Write a program to generate and print another tuple whose values are even numbers in the given tuple (1,2,3,4,5,6,7,8,9,10).  Use \"for\" to iterate the tuple, Use tuple() to generate a tuple from a list.\n"
   ]
  },
  {
   "cell_type": "code",
   "execution_count": 2,
   "id": "9604a535",
   "metadata": {},
   "outputs": [
    {
     "name": "stdout",
     "output_type": "stream",
     "text": [
      "(2, 4, 6, 8, 10)\n"
     ]
    }
   ],
   "source": [
    "mytuple=(1,2,3,4,5,6,7,8,10)\n",
    "li=[]\n",
    "for i in mytuple:\n",
    "    if i%2==0:\n",
    "        li.append(i)\n",
    "mytuple2=tuple(li)\n",
    "print(mytuple2)\n"
   ]
  },
  {
   "cell_type": "markdown",
   "id": "72ffccdc",
   "metadata": {},
   "source": [
    " 3.Write a program which accepts a string as input to print \"Yes\" if the string is \"yes\" or \"YES\" or \"Yes\", otherwise print \"No\".Use if statement to judge condition."
   ]
  },
  {
   "cell_type": "code",
   "execution_count": 3,
   "id": "40a57abe",
   "metadata": {},
   "outputs": [
    {
     "name": "stdout",
     "output_type": "stream",
     "text": [
      "enter a stringyes\n",
      "YES\n"
     ]
    }
   ],
   "source": [
    "a=(input('enter a string'))\n",
    "if a=='yes'or a=='YES' or a=='yes':\n",
    "    print('YES')\n",
    "else:\n",
    "    print('NO')"
   ]
  },
  {
   "cell_type": "markdown",
   "id": "3bc1e04c",
   "metadata": {},
   "source": [
    "4. Write a program which can filter even numbers in a list by using filter function. The list is: [1,2,3,4,5,6,7,8,9,10].Use filter() to filter some elements in a list.Use lambda to define anonymous functions."
   ]
  },
  {
   "cell_type": "code",
   "execution_count": 4,
   "id": "9c7bdea3",
   "metadata": {},
   "outputs": [
    {
     "name": "stdout",
     "output_type": "stream",
     "text": [
      "[2, 4, 6, 8, 10]\n"
     ]
    }
   ],
   "source": [
    "lis=[1,2,3,4,5,6,7,8,9,10]\n",
    "a=list(filter(lambda x:x%2==0,lis))\n",
    "print(a)"
   ]
  },
  {
   "cell_type": "markdown",
   "id": "2036cf37",
   "metadata": {},
   "source": [
    "5. Write a program which can map() to make a list whose elements are square of elements in [1,2,3,4,5,6,7,8,9,10].Use map() to generate a list.Use lambda to define anonymous functions."
   ]
  },
  {
   "cell_type": "code",
   "execution_count": 5,
   "id": "1ed6fc12",
   "metadata": {},
   "outputs": [
    {
     "name": "stdout",
     "output_type": "stream",
     "text": [
      "[1, 4, 9, 16, 25, 36, 49, 64, 81, 100]\n"
     ]
    }
   ],
   "source": [
    "ab=[1,2,3,4,5,6,7,8,9,10]\n",
    "a=list(map(lambda x:x**2,ab))\n",
    "print(a)"
   ]
  },
  {
   "cell_type": "markdown",
   "id": "b2e7623f",
   "metadata": {},
   "source": [
    "6. Write a program which can map() and filter() to make a list whose elements are square of even number in [1,2,3,4,5,6,7,8,9,10].Use map() to generate a list.Use filter() to filter elements of a list.Use lambda to define anonymous functions."
   ]
  },
  {
   "cell_type": "code",
   "execution_count": 8,
   "id": "fd6afc58",
   "metadata": {},
   "outputs": [
    {
     "name": "stdout",
     "output_type": "stream",
     "text": [
      "[4, 16, 36, 64, 100]\n"
     ]
    }
   ],
   "source": [
    "even=[1,2,3,4,5,6,7,8,9,10]\n",
    "c=list(map(lambda x:x**2,filter(lambda x:x%2==0,even)))\n",
    "print(c)"
   ]
  },
  {
   "cell_type": "markdown",
   "id": "60ed85ca",
   "metadata": {},
   "source": [
    "7. Write a program which can filter() to make a list whose elements are even number between 1 and 20 (both included).Use filter() to filter elements of a list.Use lambda to define anonymous functions.\n"
   ]
  },
  {
   "cell_type": "code",
   "execution_count": 2,
   "id": "129a2977",
   "metadata": {},
   "outputs": [
    {
     "name": "stdout",
     "output_type": "stream",
     "text": [
      "[2, 4, 6, 8, 10, 12, 14, 16, 18, 20]\n"
     ]
    }
   ],
   "source": [
    "a=[*range(1,21)]\n",
    "b=list(filter(lambda x:x%2==0,a))\n",
    "print(b)"
   ]
  },
  {
   "cell_type": "markdown",
   "id": "063b0f58",
   "metadata": {},
   "source": [
    "8.Write a program which can map() to make a list whose elements are square of numbers between 1 and 20 (both included). Hints: Use map() to generate a list. Use lambda to define anonymous function"
   ]
  },
  {
   "cell_type": "code",
   "execution_count": 3,
   "id": "86586f6b",
   "metadata": {},
   "outputs": [
    {
     "name": "stdout",
     "output_type": "stream",
     "text": [
      "[1, 4, 9, 16, 25, 36, 49, 64, 81, 100, 121, 144, 169, 196, 225, 256, 289, 324, 361, 400]\n"
     ]
    }
   ],
   "source": [
    "sqr=[*range(1,21)]\n",
    "n=list(map(lambda x:x**2,sqr))\n",
    "print(n)\n",
    "\n"
   ]
  }
 ],
 "metadata": {
  "kernelspec": {
   "display_name": "Python 3 (ipykernel)",
   "language": "python",
   "name": "python3"
  },
  "language_info": {
   "codemirror_mode": {
    "name": "ipython",
    "version": 3
   },
   "file_extension": ".py",
   "mimetype": "text/x-python",
   "name": "python",
   "nbconvert_exporter": "python",
   "pygments_lexer": "ipython3",
   "version": "3.9.13"
  }
 },
 "nbformat": 4,
 "nbformat_minor": 5
}
