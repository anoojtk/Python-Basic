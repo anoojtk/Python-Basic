{
 "cells": [
  {
   "cell_type": "markdown",
   "id": "cc3e452b",
   "metadata": {},
   "source": [
    "# LAMBDA"
   ]
  },
  {
   "cell_type": "code",
   "execution_count": 3,
   "id": "5e88537b",
   "metadata": {},
   "outputs": [
    {
     "name": "stdout",
     "output_type": "stream",
     "text": [
      "10\n"
     ]
    }
   ],
   "source": [
    "a=(lambda x:x*2)\n",
    "print(a(5))"
   ]
  },
  {
   "cell_type": "code",
   "execution_count": 4,
   "id": "f876dd86",
   "metadata": {},
   "outputs": [
    {
     "name": "stdout",
     "output_type": "stream",
     "text": [
      "[2, 4, 6, 8]\n"
     ]
    }
   ],
   "source": [
    "a=[1,2,3,4,5,6,7,8]\n",
    "li=list(filter(lambda x:x %2==0,a))\n",
    "print(li)"
   ]
  },
  {
   "cell_type": "code",
   "execution_count": 15,
   "id": "72514ca5",
   "metadata": {},
   "outputs": [
    {
     "name": "stdout",
     "output_type": "stream",
     "text": [
      "[4, 8, 12, 16, 20]\n"
     ]
    }
   ],
   "source": [
    "b=[2,4,6,8,10]\n",
    "lis=list(map(lambda x:x*2,b))\n",
    "print(lis)"
   ]
  },
  {
   "cell_type": "code",
   "execution_count": 16,
   "id": "9cf04c91",
   "metadata": {},
   "outputs": [
    {
     "name": "stdout",
     "output_type": "stream",
     "text": [
      "[2, 4, 6, 8, 10, 12, 14, 16, 18, 20]\n"
     ]
    }
   ],
   "source": [
    "a=[*range(1,21)]\n",
    "li=list(filter(lambda x:x%2==0,a))\n",
    "print(li)"
   ]
  },
  {
   "cell_type": "markdown",
   "id": "72fdd057",
   "metadata": {},
   "source": [
    "# using function"
   ]
  },
  {
   "cell_type": "code",
   "execution_count": 25,
   "id": "6db3d24b",
   "metadata": {},
   "outputs": [
    {
     "name": "stdout",
     "output_type": "stream",
     "text": [
      "22\n"
     ]
    }
   ],
   "source": [
    "def myfunc(n):\n",
    "    return lambda a : a * n\n",
    "mydoubler = myfunc(2)\n",
    "print(mydoubler(11))\n"
   ]
  },
  {
   "cell_type": "code",
   "execution_count": null,
   "id": "72587474",
   "metadata": {},
   "outputs": [],
   "source": []
  }
 ],
 "metadata": {
  "kernelspec": {
   "display_name": "Python 3 (ipykernel)",
   "language": "python",
   "name": "python3"
  },
  "language_info": {
   "codemirror_mode": {
    "name": "ipython",
    "version": 3
   },
   "file_extension": ".py",
   "mimetype": "text/x-python",
   "name": "python",
   "nbconvert_exporter": "python",
   "pygments_lexer": "ipython3",
   "version": "3.9.13"
  }
 },
 "nbformat": 4,
 "nbformat_minor": 5
}
