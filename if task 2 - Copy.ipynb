{
 "cells": [
  {
   "cell_type": "code",
   "execution_count": 2,
   "id": "e894fc15",
   "metadata": {},
   "outputs": [
    {
     "name": "stdout",
     "output_type": "stream",
     "text": [
      "enter 1 to 12 number5\n",
      "may\n"
     ]
    }
   ],
   "source": [
    "a=int(input('enter 1 to 12 number'))\n",
    "if a==1:\n",
    "    print('jan')\n",
    "elif a==2:\n",
    "    print('feb')\n",
    "elif a==3:\n",
    "    print('mar')\n",
    "elif a==4:\n",
    "    print('apr')\n",
    "elif a==5:\n",
    "    print('may')\n",
    "elif a==6:\n",
    "    print('jun')\n",
    "elif a==7:\n",
    "    print('jul')\n",
    "elif a==8:\n",
    "    print('aug')\n",
    "elif a==9:\n",
    "    print('sep')\n",
    "elif a==10:\n",
    "    print('oct')\n",
    "elif a==11:\n",
    "    print('nov')\n",
    "elif a==12:\n",
    "    print('dec')\n",
    "else:\n",
    "    print('*******')\n"
   ]
  },
  {
   "cell_type": "code",
   "execution_count": 5,
   "id": "d8af3723",
   "metadata": {},
   "outputs": [
    {
     "name": "stdout",
     "output_type": "stream",
     "text": [
      "enter v i b g o r any keyg\n",
      "green\n"
     ]
    }
   ],
   "source": [
    "x=str(input('enter v i b g o r any key'))\n",
    "if x=='v':\n",
    "    print('voilet')\n",
    "elif x=='i':\n",
    "    print('indigo')\n",
    "elif x=='b':\n",
    "    print('blue')\n",
    "elif x=='g':\n",
    "    print('green')\n",
    "elif x=='o':\n",
    "    print('orange')\n",
    "elif x=='r':\n",
    "    print('red')\n",
    "else:\n",
    "    print('wrong')"
   ]
  },
  {
   "cell_type": "code",
   "execution_count": 2,
   "id": "9c02c3f0",
   "metadata": {},
   "outputs": [
    {
     "name": "stdout",
     "output_type": "stream",
     "text": [
      "enter any num5\n",
      "divisible by 5\n"
     ]
    }
   ],
   "source": [
    "b=int(input('enter any num'))\n",
    "if b%5==0:\n",
    "    print('divisible by 5')\n",
    "else:\n",
    "    print('not')\n",
    "    "
   ]
  },
  {
   "cell_type": "code",
   "execution_count": 8,
   "id": "7993bcb7",
   "metadata": {},
   "outputs": [
    {
     "name": "stdout",
     "output_type": "stream",
     "text": [
      "enter your bill amt1800\n",
      "180.0\n"
     ]
    }
   ],
   "source": [
    "c=int(input('enter your bill amt'))\n",
    "if c>=1000:\n",
    "    dis=c*10/100\n",
    "    print(dis)\n",
    "else:\n",
    "    print('no discount')"
   ]
  },
  {
   "cell_type": "code",
   "execution_count": 12,
   "id": "63f7921c",
   "metadata": {},
   "outputs": [
    {
     "name": "stdout",
     "output_type": "stream",
     "text": [
      "enter your age16\n",
      "not\n"
     ]
    }
   ],
   "source": [
    "m=int(input('enter your age'))\n",
    "if m>=18:\n",
    "    print('min age to election')\n",
    "elif m>25:\n",
    "    print('verifed')\n",
    "else:\n",
    "    print('not')\n",
    "    "
   ]
  },
  {
   "cell_type": "code",
   "execution_count": 16,
   "id": "0a1192f9",
   "metadata": {},
   "outputs": [
    {
     "name": "stdout",
     "output_type": "stream",
     "text": [
      "enter a num2\n",
      "enter a num4\n",
      "enter a num1\n",
      "4\n"
     ]
    }
   ],
   "source": [
    "a=int(input('enter a num'))\n",
    "b=int(input('enter a num'))\n",
    "c=int(input('enter a num'))\n",
    "if a>b:\n",
    "    print(a)\n",
    "elif b>c:\n",
    "    print(b)\n",
    "elif c>a:\n",
    "    print(c)\n"
   ]
  },
  {
   "cell_type": "code",
   "execution_count": 19,
   "id": "d387fc9a",
   "metadata": {},
   "outputs": [
    {
     "name": "stdout",
     "output_type": "stream",
     "text": [
      "enter a num1\n",
      "odd number\n"
     ]
    }
   ],
   "source": [
    "n=int(input('enter a num'))\n",
    "if n%2==0:\n",
    "    print('even number')\n",
    "else:\n",
    "    print('odd number')"
   ]
  },
  {
   "cell_type": "code",
   "execution_count": 17,
   "id": "f6e1293d",
   "metadata": {},
   "outputs": [
    {
     "name": "stdout",
     "output_type": "stream",
     "text": [
      "4 is not a prime number\n"
     ]
    }
   ],
   "source": [
    "n = 4\n",
    "if n > 1:\n",
    "    for i in range(2, int(n/2)+1):\n",
    "        if (n % i) == 0:\n",
    "            print(n, \"is not a prime number\")\n",
    "            break\n",
    "        else:\n",
    "             print(n, \"is a prime number\")\n",
    "else:\n",
    "    print(n, \"is not a prime number\")"
   ]
  },
  {
   "cell_type": "markdown",
   "id": "83bb2ce9",
   "metadata": {},
   "source": [
    " "
   ]
  }
 ],
 "metadata": {
  "kernelspec": {
   "display_name": "Python 3 (ipykernel)",
   "language": "python",
   "name": "python3"
  },
  "language_info": {
   "codemirror_mode": {
    "name": "ipython",
    "version": 3
   },
   "file_extension": ".py",
   "mimetype": "text/x-python",
   "name": "python",
   "nbconvert_exporter": "python",
   "pygments_lexer": "ipython3",
   "version": "3.9.13"
  }
 },
 "nbformat": 4,
 "nbformat_minor": 5
}
