{
 "cells": [
  {
   "cell_type": "code",
   "execution_count": 1,
   "id": "56f45d44",
   "metadata": {},
   "outputs": [
    {
     "name": "stdout",
     "output_type": "stream",
     "text": [
      "5\n"
     ]
    }
   ],
   "source": [
    "a='hello'\n",
    "print(len(a))"
   ]
  },
  {
   "cell_type": "code",
   "execution_count": 2,
   "id": "4332df3a",
   "metadata": {},
   "outputs": [
    {
     "data": {
      "text/plain": [
       "1"
      ]
     },
     "execution_count": 2,
     "metadata": {},
     "output_type": "execute_result"
    }
   ],
   "source": [
    "b='welcome to my wolrd'\n",
    "b.count('wolrd')"
   ]
  },
  {
   "cell_type": "code",
   "execution_count": 3,
   "id": "244a9dae",
   "metadata": {},
   "outputs": [
    {
     "name": "stdout",
     "output_type": "stream",
     "text": [
      "enter a nameanooj\n",
      "ANOOJ\n",
      "anooj\n"
     ]
    }
   ],
   "source": [
    "y=str(input('enter a name'))\n",
    "print(y.upper())\n",
    "print(y.lower())"
   ]
  },
  {
   "cell_type": "code",
   "execution_count": 4,
   "id": "60a4032a",
   "metadata": {},
   "outputs": [
    {
     "name": "stdout",
     "output_type": "stream",
     "text": [
      "(1, 2, 3, 4)\n"
     ]
    }
   ],
   "source": [
    "b=(1,2,3,4)\n",
    "print(b)"
   ]
  },
  {
   "cell_type": "code",
   "execution_count": 6,
   "id": "2ca7e0d9",
   "metadata": {},
   "outputs": [
    {
     "name": "stdout",
     "output_type": "stream",
     "text": [
      "(1, 2, 3, 'anu', 7, 8)\n"
     ]
    }
   ],
   "source": [
    "b=(1,2,3,'anu',7,8)\n",
    "print(b)"
   ]
  },
  {
   "cell_type": "code",
   "execution_count": 12,
   "id": "084f8a57",
   "metadata": {},
   "outputs": [
    {
     "name": "stdout",
     "output_type": "stream",
     "text": [
      "4\n"
     ]
    }
   ],
   "source": [
    "r=(1,2,3,4)\n",
    "print(r[3])"
   ]
  },
  {
   "cell_type": "code",
   "execution_count": 11,
   "id": "038e175e",
   "metadata": {},
   "outputs": [
    {
     "name": "stdout",
     "output_type": "stream",
     "text": [
      "(6, 2, 3, 4, 5)\n"
     ]
    }
   ],
   "source": [
    "a=(1,2,3,4,5)\n",
    "b,c,d,e,f=a\n",
    "b=6\n",
    "a=(b,c,d,e,f)\n",
    "print(a)"
   ]
  },
  {
   "cell_type": "code",
   "execution_count": 13,
   "id": "115ee90a",
   "metadata": {},
   "outputs": [
    {
     "name": "stdout",
     "output_type": "stream",
     "text": [
      "(4, 3, 2, 1)\n"
     ]
    }
   ],
   "source": [
    "e=(1,2,3,4)\n",
    "print(e[::-1])"
   ]
  },
  {
   "cell_type": "code",
   "execution_count": 15,
   "id": "9e9904f2",
   "metadata": {},
   "outputs": [
    {
     "name": "stdout",
     "output_type": "stream",
     "text": [
      "21\n"
     ]
    }
   ],
   "source": [
    "li=[1,2,3,4,5,6]\n",
    "lis=sum(li)\n",
    "print(lis)"
   ]
  },
  {
   "cell_type": "code",
   "execution_count": 16,
   "id": "f4924061",
   "metadata": {},
   "outputs": [
    {
     "name": "stdout",
     "output_type": "stream",
     "text": [
      "6\n"
     ]
    }
   ],
   "source": [
    "li=[1,2,3,4,5,6]\n",
    "lis=max(li)\n",
    "print(lis)\n"
   ]
  },
  {
   "cell_type": "code",
   "execution_count": 17,
   "id": "216dddaa",
   "metadata": {},
   "outputs": [
    {
     "name": "stdout",
     "output_type": "stream",
     "text": [
      "1\n"
     ]
    }
   ],
   "source": [
    "li=[1,2,3,4,5,6]\n",
    "lis=min(li)\n",
    "print(lis)"
   ]
  },
  {
   "cell_type": "code",
   "execution_count": 22,
   "id": "54ed26fe",
   "metadata": {},
   "outputs": [
    {
     "name": "stdout",
     "output_type": "stream",
     "text": [
      "[1, 2, 3, 4, 5]\n"
     ]
    }
   ],
   "source": [
    "a=[1,2,3,4,5]\n",
    "b=a.copy()\n",
    "print(a)"
   ]
  },
  {
   "cell_type": "code",
   "execution_count": 23,
   "id": "e0026ef1",
   "metadata": {},
   "outputs": [
    {
     "name": "stdout",
     "output_type": "stream",
     "text": [
      "[1, 2, 3, 4, 5]\n"
     ]
    }
   ],
   "source": [
    "print(b)"
   ]
  },
  {
   "cell_type": "code",
   "execution_count": 24,
   "id": "1d5f73cf",
   "metadata": {},
   "outputs": [
    {
     "data": {
      "text/plain": [
       "2"
      ]
     },
     "execution_count": 24,
     "metadata": {},
     "output_type": "execute_result"
    }
   ],
   "source": [
    "m=[1,2,3,4,5]\n",
    "m.index(3)"
   ]
  },
  {
   "cell_type": "code",
   "execution_count": 25,
   "id": "6866d19f",
   "metadata": {},
   "outputs": [
    {
     "name": "stdout",
     "output_type": "stream",
     "text": [
      "[1, 2, 3, 4, [4, 5, 6, 7]]\n"
     ]
    }
   ],
   "source": [
    "a=[1,2,3,4]\n",
    "b=[4,5,6,7]\n",
    "a.append(b)\n",
    "print(a)\n"
   ]
  },
  {
   "cell_type": "code",
   "execution_count": 26,
   "id": "3ab77687",
   "metadata": {},
   "outputs": [
    {
     "data": {
      "text/plain": [
       "2"
      ]
     },
     "execution_count": 26,
     "metadata": {},
     "output_type": "execute_result"
    }
   ],
   "source": [
    "a=[1,2,3,4,4,5,5,6,7,7]\n",
    "a.count(4)"
   ]
  },
  {
   "cell_type": "code",
   "execution_count": 27,
   "id": "c588dd46",
   "metadata": {},
   "outputs": [
    {
     "name": "stdout",
     "output_type": "stream",
     "text": [
      "[9, 8, 7, 6, 5, 4, 3, 2, 1, 10, 11, 12]\n"
     ]
    }
   ],
   "source": [
    "n=[9,8,7,6,5,4,3,2,1]\n",
    "n.extend([10,11,12])\n",
    "print(n)"
   ]
  },
  {
   "cell_type": "code",
   "execution_count": 28,
   "id": "6f6c9b55",
   "metadata": {},
   "outputs": [
    {
     "name": "stdout",
     "output_type": "stream",
     "text": [
      "(1, 2, 3, 4, 5)\n"
     ]
    }
   ],
   "source": [
    "tup=[1,2,3,4,5]\n",
    "tu1=tuple(tup)\n",
    "print(tu1)"
   ]
  },
  {
   "cell_type": "code",
   "execution_count": 29,
   "id": "b01ab17b",
   "metadata": {},
   "outputs": [
    {
     "name": "stdout",
     "output_type": "stream",
     "text": [
      "5\n"
     ]
    }
   ],
   "source": [
    "c=(1, 2, 3, 4, 5)\n",
    "print(len(c))"
   ]
  },
  {
   "cell_type": "code",
   "execution_count": 1,
   "id": "179f2d52",
   "metadata": {},
   "outputs": [
    {
     "name": "stdout",
     "output_type": "stream",
     "text": [
      "not empty\n"
     ]
    }
   ],
   "source": [
    "a=[1,2,3,4,5,6]\n",
    "b=len(a)\n",
    "if b>0:\n",
    "    print('not empty')\n",
    "else:\n",
    "    print('empty')\n"
   ]
  },
  {
   "cell_type": "code",
   "execution_count": 4,
   "id": "38f9cf98",
   "metadata": {},
   "outputs": [
    {
     "name": "stdout",
     "output_type": "stream",
     "text": [
      "{1, 2, 3, 4}\n",
      "[1, 2, 3, 4]\n"
     ]
    }
   ],
   "source": [
    "a=[1,1,2,2,3,4,4]\n",
    "b=set(a)\n",
    "print(b)\n",
    "a=list(b)\n",
    "print(a)"
   ]
  },
  {
   "cell_type": "code",
   "execution_count": 6,
   "id": "a64b40e9",
   "metadata": {},
   "outputs": [
    {
     "data": {
      "text/plain": [
       "3"
      ]
     },
     "execution_count": 6,
     "metadata": {},
     "output_type": "execute_result"
    }
   ],
   "source": [
    "a=[1,2,3,4,5,6,7]\n",
    "a.index(4)"
   ]
  },
  {
   "cell_type": "code",
   "execution_count": 8,
   "id": "2f254b2d",
   "metadata": {},
   "outputs": [
    {
     "name": "stdout",
     "output_type": "stream",
     "text": [
      "['p', 'y', 't', 'h', 'o', 'n']\n"
     ]
    }
   ],
   "source": [
    "a='python'\n",
    "print(list(a))"
   ]
  },
  {
   "cell_type": "code",
   "execution_count": 10,
   "id": "952802e1",
   "metadata": {},
   "outputs": [
    {
     "name": "stdout",
     "output_type": "stream",
     "text": [
      "[1]\n",
      "invalid\n",
      "[1, 3]\n",
      "invalid\n",
      "[1, 3, 5]\n",
      "invalid\n"
     ]
    }
   ],
   "source": [
    "odd=[1,2,3,4,5,6,]\n",
    "b=[]\n",
    "for i in odd:\n",
    "    if i%2==1:\n",
    "        b.append(i)\n",
    "        print(b)\n",
    "    else:\n",
    "        print('invalid')\n",
    "    "
   ]
  },
  {
   "cell_type": "code",
   "execution_count": 11,
   "id": "977a5cfb",
   "metadata": {},
   "outputs": [
    {
     "name": "stdout",
     "output_type": "stream",
     "text": [
      "[1, 2, 3, 4, 5, 6, 7, 2, 4, 6, 8, 10]\n"
     ]
    }
   ],
   "source": [
    "a=[1,2,3,4,5,6,7]\n",
    "b=[2,4,6,8,10]\n",
    "c=a+b\n",
    "print(c)"
   ]
  },
  {
   "cell_type": "code",
   "execution_count": null,
   "id": "a3f39a80",
   "metadata": {},
   "outputs": [],
   "source": []
  }
 ],
 "metadata": {
  "kernelspec": {
   "display_name": "Python 3 (ipykernel)",
   "language": "python",
   "name": "python3"
  },
  "language_info": {
   "codemirror_mode": {
    "name": "ipython",
    "version": 3
   },
   "file_extension": ".py",
   "mimetype": "text/x-python",
   "name": "python",
   "nbconvert_exporter": "python",
   "pygments_lexer": "ipython3",
   "version": "3.9.13"
  }
 },
 "nbformat": 4,
 "nbformat_minor": 5
}
