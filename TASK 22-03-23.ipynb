{
 "cells": [
  {
   "cell_type": "markdown",
   "id": "87431762",
   "metadata": {},
   "source": [
    "Create a Student class and initialize it with name and roll number. Make methods to :\n",
    "1. Display - It should display all informations of the student.\n",
    "2. setAge - It should assign age to student\n",
    "3. setMarks - It should assign marks to the student."
   ]
  },
  {
   "cell_type": "code",
   "execution_count": 3,
   "id": "e958a6f9",
   "metadata": {},
   "outputs": [
    {
     "name": "stdout",
     "output_type": "stream",
     "text": [
      "anooj 21\n",
      "mark and age is 50 and 15 \n"
     ]
    }
   ],
   "source": [
    "class school:\n",
    "    def __init__ (self,name,rollno):\n",
    "        self.name=name\n",
    "        self.rollno=rollno\n",
    "    def info(self):\n",
    "        print(self.name,self.rollno)\n",
    "    def markage(self,mark,age):\n",
    "        self.mark=mark\n",
    "        self.age=age\n",
    "        print('mark and age is {} and {} '.format(self.mark,self.age))\n",
    "obj=school('anooj',21)\n",
    "obj.info()\n",
    "obj.markage(50,15)"
   ]
  },
  {
   "cell_type": "markdown",
   "id": "cd993da2",
   "metadata": {},
   "source": [
    "2.Create a Class with instance attributes"
   ]
  },
  {
   "cell_type": "code",
   "execution_count": 9,
   "id": "dad2e80d",
   "metadata": {},
   "outputs": [
    {
     "name": "stdout",
     "output_type": "stream",
     "text": [
      "cat:nova, 1.2\n"
     ]
    }
   ],
   "source": [
    "class animal:\n",
    "    def __init__(self,name,weight):\n",
    "        self.name=name\n",
    "        self.weight=weight\n",
    "        print(self.name,self.weight)\n",
    "obj=animal('cat:nova,',1.2)"
   ]
  },
  {
   "cell_type": "markdown",
   "id": "35372596",
   "metadata": {},
   "source": [
    "3.Python Program to Create a Class which Performs Basic Calculator Operations"
   ]
  },
  {
   "cell_type": "code",
   "execution_count": 22,
   "id": "d21568a8",
   "metadata": {},
   "outputs": [
    {
     "name": "stdout",
     "output_type": "stream",
     "text": [
      "Enter first number:12\n",
      "Enter first number:10\n",
      "22\n",
      "answer is add None\n",
      "2\n",
      "answer is sub None\n",
      "120\n",
      "answer is mul None\n",
      "1.2\n",
      "answer is div None\n"
     ]
    }
   ],
   "source": [
    "class calculator:\n",
    "    \n",
    "    def add(self,n,n2):\n",
    "        self.n=n\n",
    "        self.n2=n2\n",
    "        print(self.n+self.n2)\n",
    "    def sub(self,n,n2):\n",
    "        self.n=n\n",
    "        self.n2=n2\n",
    "        print(self.n-self.n2)\n",
    "    def mul(self,n,n2):\n",
    "        self.n=n\n",
    "        self.n2=n2\n",
    "        print(self.n*self.n2)\n",
    "    def div(self,n,n2):\n",
    "        self.n=n\n",
    "        self.n2=n2\n",
    "        print(self.n/self.n2)\n",
    "a = int(input(\"Enter first number:\"))\n",
    "b = int(input(\"Enter first number:\"))\n",
    "obj=calculator()\n",
    "print('answer is add',obj.add(a,b))\n",
    "print('answer is sub',obj.sub(a,b))\n",
    "print('answer is mul',obj.mul(a,b))\n",
    "print('answer is div',obj.div(a,b))"
   ]
  },
  {
   "cell_type": "markdown",
   "id": "49b95c38",
   "metadata": {},
   "source": [
    "Python Program to Create a Class in which One Method Accepts a String from the User and Another Prints it"
   ]
  },
  {
   "cell_type": "code",
   "execution_count": null,
   "id": "ce93767d",
   "metadata": {},
   "outputs": [],
   "source": [
    "class print1():\n",
    "    def _init_(self):\n",
    "        self.string=\"\"\n",
    "        \n",
    "    def get(self):\n",
    "        self.string=input(\"Enter string: \")\n",
    "    def put(self):\n",
    "        print(\"String is:\")\n",
    "        print(self.string)\n",
    "        \n",
    "obj=print1()\n",
    "obj.get()\n",
    "obj.put()\n"
   ]
  },
  {
   "cell_type": "markdown",
   "id": "4eb7b099",
   "metadata": {},
   "source": [
    "Also find Program to Create a Class and Compute the Area of the Circle"
   ]
  },
  {
   "cell_type": "code",
   "execution_count": 8,
   "id": "096f2923",
   "metadata": {},
   "outputs": [
    {
     "name": "stdout",
     "output_type": "stream",
     "text": [
      "enter a circle area14.5\n",
      "1980.555\n",
      "area is None\n"
     ]
    }
   ],
   "source": [
    "class circle:\n",
    "    def area (self,ar):\n",
    "        a=3*3.14*ar*ar\n",
    "        print(a)\n",
    "r=float(input('enter a circle area'))\n",
    "obj=circle()\n",
    "a=obj.area(r)\n",
    "print('area is',a)\n"
   ]
  },
  {
   "cell_type": "markdown",
   "id": "4ce7623e",
   "metadata": {},
   "source": [
    "Python Program to Find the Area of a Rectangle Using Classes"
   ]
  },
  {
   "cell_type": "code",
   "execution_count": 13,
   "id": "ade54a31",
   "metadata": {},
   "outputs": [
    {
     "name": "stdout",
     "output_type": "stream",
     "text": [
      "enter a length12\n",
      "enter a width5\n",
      "60.0\n",
      "area of rectangle None\n"
     ]
    }
   ],
   "source": [
    "class rect:\n",
    "    def __init__(self,length,width):\n",
    "        self.length=length\n",
    "        self.width=width\n",
    "    def area(self):\n",
    "        print(self.length*self.width)\n",
    "a=float(input('enter a length'))\n",
    "b=float(input('enter a width'))\n",
    "obj=rect(a,b)\n",
    "print('area of rectangle',obj.area())"
   ]
  },
  {
   "cell_type": "markdown",
   "id": "f8275772",
   "metadata": {},
   "source": [
    "Create a child class Bus that will inherit all of the variables and methods of the Vehicle class"
   ]
  },
  {
   "cell_type": "code",
   "execution_count": 25,
   "id": "b9d8d6ba",
   "metadata": {},
   "outputs": [
    {
     "name": "stdout",
     "output_type": "stream",
     "text": [
      "BIKE\n",
      "ducati black and green\n",
      "200\n",
      "rpm is 10000/km\n"
     ]
    }
   ],
   "source": [
    "class Vehicle:\n",
    "    def __init__(self, name, speed):\n",
    "        self.name = name\n",
    "        self.speed = speed\n",
    "        print('BIKE')\n",
    "    def display(self):\n",
    "        print(self.name,self.speed)\n",
    "    def model(self,modelname):\n",
    "        print(modelname)\n",
    "class bike(Vehicle):\n",
    "    def rpm(self):\n",
    "        print('rpm is 10000/km')\n",
    "obj=bike('ducati','black and green')\n",
    "obj.display()\n",
    "obj.model('200')\n",
    "obj.rpm()"
   ]
  },
  {
   "cell_type": "code",
   "execution_count": 27,
   "id": "cee32de1",
   "metadata": {},
   "outputs": [
    {
     "name": "stdout",
     "output_type": "stream",
     "text": [
      "<class '__main__.vehicle'>\n",
      "bus\n",
      "seat of capasity 50\n"
     ]
    }
   ],
   "source": [
    "class vehicle:\n",
    "    def __init__(self,name):\n",
    "        self.name=name\n",
    "        print(vehicle)\n",
    "    def display(self):\n",
    "        print(self.name)\n",
    "class bus(vehicle):\n",
    "    def seat(self,seat):\n",
    "        print('seat of capasity',seat)\n",
    "obj=bus('bus')\n",
    "obj.display()\n",
    "obj.seat('50')"
   ]
  },
  {
   "cell_type": "code",
   "execution_count": 28,
   "id": "16c876ca",
   "metadata": {},
   "outputs": [
    {
     "name": "stdout",
     "output_type": "stream",
     "text": [
      "9\n",
      "20\n"
     ]
    }
   ],
   "source": [
    "class calculation:\n",
    "    def __init__(self,num,num1):\n",
    "        self.num=num\n",
    "        self.num1=num1\n",
    "        print(self.num+self.num1)\n",
    "class mu(calculation):\n",
    "    def multiplication(self):\n",
    "        print(self.num*self.num1)\n",
    "obj=mu(4,5)\n",
    "obj.multiplication()"
   ]
  },
  {
   "cell_type": "code",
   "execution_count": null,
   "id": "3e7847e7",
   "metadata": {},
   "outputs": [],
   "source": []
  }
 ],
 "metadata": {
  "kernelspec": {
   "display_name": "Python 3 (ipykernel)",
   "language": "python",
   "name": "python3"
  },
  "language_info": {
   "codemirror_mode": {
    "name": "ipython",
    "version": 3
   },
   "file_extension": ".py",
   "mimetype": "text/x-python",
   "name": "python",
   "nbconvert_exporter": "python",
   "pygments_lexer": "ipython3",
   "version": "3.9.13"
  }
 },
 "nbformat": 4,
 "nbformat_minor": 5
}
