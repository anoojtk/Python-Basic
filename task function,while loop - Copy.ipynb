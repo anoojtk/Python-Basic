{
 "cells": [
  {
   "cell_type": "code",
   "execution_count": 1,
   "id": "da901096",
   "metadata": {},
   "outputs": [
    {
     "name": "stdout",
     "output_type": "stream",
     "text": [
      "enter a nameanooj\n",
      "enter a nameakash\n",
      "5\n",
      "5\n"
     ]
    }
   ],
   "source": [
    "def mydef(str1,str2):\n",
    "    a=len(str1)\n",
    "    b=len(str2)\n",
    "    if a>b:\n",
    "        print(a)\n",
    "    elif a>b:\n",
    "        print(b)\n",
    "    else:\n",
    "        print(a)\n",
    "        print(b)\n",
    "str1=input('enter a name')\n",
    "str2=input('enter a name')\n",
    "mydef (str1,str2)\n",
    "    "
   ]
  },
  {
   "cell_type": "code",
   "execution_count": 3,
   "id": "95bd0e83",
   "metadata": {},
   "outputs": [
    {
     "name": "stdout",
     "output_type": "stream",
     "text": [
      "enter a number3\n",
      "number is odd \n"
     ]
    }
   ],
   "source": [
    "def newdef(a1):\n",
    "    a=a1\n",
    "    if a%2==0:\n",
    "        print('number is even')\n",
    "    else:\n",
    "        print('number is odd ')\n",
    "a1=int(input('enter a number'))\n",
    "newdef(a1)\n"
   ]
  },
  {
   "cell_type": "code",
   "execution_count": 6,
   "id": "de5158b5",
   "metadata": {},
   "outputs": [
    {
     "name": "stdout",
     "output_type": "stream",
     "text": [
      "{1: 1, 2: 4, 3: 9}\n"
     ]
    }
   ],
   "source": [
    "def dictionary():\n",
    "    d={}\n",
    "    d[1]=1**2\n",
    "    d[2]=2*2\n",
    "    d[3]=3*3\n",
    "    print(d)\n",
    "dictionary()"
   ]
  },
  {
   "cell_type": "code",
   "execution_count": 14,
   "id": "89334050",
   "metadata": {},
   "outputs": [
    {
     "name": "stdout",
     "output_type": "stream",
     "text": [
      "{1: 2, 2: 4, 3: 6, 4: 8, 5: 10, 6: 12, 7: 14, 8: 16, 9: 18, 10: 20, 11: 22, 12: 24, 13: 26, 14: 28, 15: 30, 16: 32, 17: 34, 18: 36, 19: 38, 20: 40}\n"
     ]
    }
   ],
   "source": [
    "def mydef():\n",
    "    a={}\n",
    "    for i in range(1,21):\n",
    "        a[i]=i*2\n",
    "    print(a)\n",
    "mydef()"
   ]
  },
  {
   "cell_type": "code",
   "execution_count": 26,
   "id": "8fb317ed",
   "metadata": {},
   "outputs": [
    {
     "name": "stdout",
     "output_type": "stream",
     "text": [
      "dict_values([2, 4, 6, 8, 10, 12, 14, 16, 18, 20, 22, 24, 26, 28, 30, 32, 34, 36, 38, 40])\n",
      "dict_items([(1, 2), (2, 4), (3, 6), (4, 8), (5, 10), (6, 12), (7, 14), (8, 16), (9, 18), (10, 20), (11, 22), (12, 24), (13, 26), (14, 28), (15, 30), (16, 32), (17, 34), (18, 36), (19, 38), (20, 40)])\n"
     ]
    }
   ],
   "source": [
    "def mydef():\n",
    "    a={}\n",
    "    for i in range(1,21):\n",
    "        a[i]=i*2\n",
    "    print(a.values())\n",
    "    print(a.items())\n",
    "mydef()"
   ]
  },
  {
   "cell_type": "code",
   "execution_count": 27,
   "id": "516255bb",
   "metadata": {},
   "outputs": [
    {
     "name": "stdout",
     "output_type": "stream",
     "text": [
      "dict_keys([1, 2, 3, 4, 5, 6, 7, 8, 9, 10, 11, 12, 13, 14, 15, 16, 17, 18, 19, 20])\n"
     ]
    }
   ],
   "source": [
    "def mydef():\n",
    "    a={}\n",
    "    for i in range(1,21):\n",
    "        a[i]=i*2\n",
    "    print(a.keys())\n",
    "mydef()"
   ]
  },
  {
   "cell_type": "code",
   "execution_count": 42,
   "id": "d1eaa180",
   "metadata": {},
   "outputs": [
    {
     "name": "stdout",
     "output_type": "stream",
     "text": [
      "[1, 4, 9, 16, 25, 36, 49, 64, 81, 100, 121, 144, 169, 196, 225, 256, 289, 324, 361, 400]\n"
     ]
    }
   ],
   "source": [
    "def mylist():\n",
    "    lis=[]\n",
    "    for i in range(1,21):\n",
    "        i=i**2\n",
    "        lis.append(i)\n",
    "    print(lis)\n",
    "mylist()\n",
    "        "
   ]
  },
  {
   "cell_type": "code",
   "execution_count": 13,
   "id": "28ca25bd",
   "metadata": {},
   "outputs": [
    {
     "name": "stdout",
     "output_type": "stream",
     "text": [
      "[225, 256, 289, 324, 361]\n"
     ]
    }
   ],
   "source": [
    "def mylist():\n",
    "    li=[]\n",
    "    for i in range (1,21):\n",
    "        i=i**2 \n",
    "        li.append(i)\n",
    "    print(li[-6:-1])\n",
    "mylist()"
   ]
  },
  {
   "cell_type": "code",
   "execution_count": 14,
   "id": "30373aed",
   "metadata": {},
   "outputs": [
    {
     "name": "stdout",
     "output_type": "stream",
     "text": [
      "[49, 64, 81, 100, 121, 144, 169, 196, 225, 256, 289, 324, 361, 400]\n"
     ]
    }
   ],
   "source": [
    "def mylist():\n",
    "    li=[]\n",
    "    for i in range (1,21):\n",
    "        i=i**2 \n",
    "        li.append(i)\n",
    "    print(li[6::1])\n",
    "mylist()"
   ]
  },
  {
   "cell_type": "code",
   "execution_count": 15,
   "id": "bb0e9432",
   "metadata": {},
   "outputs": [
    {
     "name": "stdout",
     "output_type": "stream",
     "text": [
      "(1, 4, 9, 16, 25, 36, 49, 64, 81, 100, 121, 144, 169, 196, 225, 256, 289, 324, 361, 400)\n"
     ]
    }
   ],
   "source": [
    "def mytuple():\n",
    "    tup=[]\n",
    "    for i in range (1,21):\n",
    "        i=i**2\n",
    "        tup.append(i)\n",
    "    print(tuple(tup))\n",
    "mytuple()"
   ]
  },
  {
   "cell_type": "code",
   "execution_count": null,
   "id": "3a293f1f",
   "metadata": {},
   "outputs": [],
   "source": []
  }
 ],
 "metadata": {
  "kernelspec": {
   "display_name": "Python 3 (ipykernel)",
   "language": "python",
   "name": "python3"
  },
  "language_info": {
   "codemirror_mode": {
    "name": "ipython",
    "version": 3
   },
   "file_extension": ".py",
   "mimetype": "text/x-python",
   "name": "python",
   "nbconvert_exporter": "python",
   "pygments_lexer": "ipython3",
   "version": "3.9.13"
  }
 },
 "nbformat": 4,
 "nbformat_minor": 5
}
