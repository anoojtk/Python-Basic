{
 "cells": [
  {
   "cell_type": "markdown",
   "id": "c20198ba",
   "metadata": {},
   "source": [
    "1.Write a Python program to read and write an entire text file"
   ]
  },
  {
   "cell_type": "code",
   "execution_count": 5,
   "id": "2351f07a",
   "metadata": {},
   "outputs": [],
   "source": [
    "with open('demo.txt','w')as f2:\n",
    "    f2.write('hello anooj')"
   ]
  },
  {
   "cell_type": "code",
   "execution_count": 12,
   "id": "5810664b",
   "metadata": {},
   "outputs": [
    {
     "name": "stdout",
     "output_type": "stream",
     "text": [
      "hello anooj\n"
     ]
    }
   ],
   "source": [
    "with open ('demo.txt','r') as f:\n",
    "    lines=f.read()\n",
    "    print(lines)"
   ]
  },
  {
   "cell_type": "markdown",
   "id": "d1e420f9",
   "metadata": {},
   "source": [
    "2.Write a Python program to append text to a file and display the text."
   ]
  },
  {
   "cell_type": "code",
   "execution_count": 17,
   "id": "127037c1",
   "metadata": {},
   "outputs": [],
   "source": [
    "with open ('demo.txt','a') as f:\n",
    "    f.write('hey')"
   ]
  },
  {
   "cell_type": "markdown",
   "id": "d10e2c84",
   "metadata": {},
   "source": [
    "3.Python Program to Copy a File"
   ]
  },
  {
   "cell_type": "code",
   "execution_count": 22,
   "id": "dcce0c85",
   "metadata": {},
   "outputs": [],
   "source": [
    "\n",
    "with open('demo.txt','r') as file1, open('second.txt','a') as file2:\n",
    "    for line in file1:\n",
    "        file2.write(line)\n"
   ]
  },
  {
   "cell_type": "markdown",
   "id": "cf98ef54",
   "metadata": {},
   "source": [
    "4.Count number of lines in a text file in Python"
   ]
  },
  {
   "cell_type": "code",
   "execution_count": 23,
   "id": "2f16877c",
   "metadata": {},
   "outputs": [
    {
     "name": "stdout",
     "output_type": "stream",
     "text": [
      "1\n"
     ]
    }
   ],
   "source": [
    "with open('demo.txt','r')as f:\n",
    "    lines=len(f.readlines())\n",
    "    print(lines)"
   ]
  }
 ],
 "metadata": {
  "kernelspec": {
   "display_name": "Python 3 (ipykernel)",
   "language": "python",
   "name": "python3"
  },
  "language_info": {
   "codemirror_mode": {
    "name": "ipython",
    "version": 3
   },
   "file_extension": ".py",
   "mimetype": "text/x-python",
   "name": "python",
   "nbconvert_exporter": "python",
   "pygments_lexer": "ipython3",
   "version": "3.9.13"
  }
 },
 "nbformat": 4,
 "nbformat_minor": 5
}
