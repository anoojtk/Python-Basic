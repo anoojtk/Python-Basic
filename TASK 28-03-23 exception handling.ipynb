{
 "cells": [
  {
   "cell_type": "markdown",
   "id": "8a16d294",
   "metadata": {},
   "source": [
    "1.Python program to demonstrate NameError"
   ]
  },
  {
   "cell_type": "code",
   "execution_count": 5,
   "id": "911aecbf",
   "metadata": {},
   "outputs": [
    {
     "name": "stdout",
     "output_type": "stream",
     "text": [
      "name error\n"
     ]
    }
   ],
   "source": [
    "try:\n",
    "    a='anooj'\n",
    "    print(b)\n",
    "except:\n",
    "    print('name error')"
   ]
  },
  {
   "cell_type": "markdown",
   "id": "cd857e70",
   "metadata": {},
   "source": [
    "2.Python program to demonstrate KeyError"
   ]
  },
  {
   "cell_type": "code",
   "execution_count": null,
   "id": "9a16a4c1",
   "metadata": {},
   "outputs": [],
   "source": [
    "try:\n",
    "    a={'hello':12}\n",
    "    a['hi']\n",
    "except:\n",
    "    print('key error')"
   ]
  },
  {
   "cell_type": "markdown",
   "id": "2b98bffc",
   "metadata": {},
   "source": [
    "3.Python program to demonstrate AttributeError"
   ]
  },
  {
   "cell_type": "code",
   "execution_count": 12,
   "id": "5eef37e6",
   "metadata": {},
   "outputs": [
    {
     "name": "stdout",
     "output_type": "stream",
     "text": [
      "Attribute error\n"
     ]
    }
   ],
   "source": [
    "try:\n",
    "    x=10\n",
    "    x.append(8)\n",
    "except:\n",
    "    print('Attribute error')"
   ]
  },
  {
   "cell_type": "markdown",
   "id": "e937afdb",
   "metadata": {},
   "source": [
    "4.Python Program to Handle Divide by Zero Exception"
   ]
  },
  {
   "cell_type": "code",
   "execution_count": 13,
   "id": "d65104d5",
   "metadata": {},
   "outputs": [
    {
     "name": "stdout",
     "output_type": "stream",
     "text": [
      "zero division error\n",
      "over the program\n"
     ]
    }
   ],
   "source": [
    "try:\n",
    "    a=10\n",
    "    b=a/0\n",
    "except:\n",
    "    print('zero division error')\n",
    "finally:\n",
    "    print(\"over the program\")"
   ]
  },
  {
   "cell_type": "markdown",
   "id": "1a0fc376",
   "metadata": {},
   "source": [
    "5.Python program to demonstrate IndexError"
   ]
  },
  {
   "cell_type": "code",
   "execution_count": 22,
   "id": "eaf23fbd",
   "metadata": {},
   "outputs": [
    {
     "name": "stdout",
     "output_type": "stream",
     "text": [
      "indexerror\n"
     ]
    }
   ],
   "source": [
    "try:\n",
    "    a=[1,2,3,4,5]\n",
    "    a[5]\n",
    "except:\n",
    "    print('indexerror')"
   ]
  },
  {
   "cell_type": "markdown",
   "id": "889e60c0",
   "metadata": {},
   "source": [
    "6.Create a function that will throw an exception if interest rate is greater than 100."
   ]
  },
  {
   "cell_type": "code",
   "execution_count": 34,
   "id": "d55d985f",
   "metadata": {},
   "outputs": [
    {
     "name": "stdout",
     "output_type": "stream",
     "text": [
      "error occure\n",
      "program over\n"
     ]
    }
   ],
   "source": [
    "def si(amt,yr,r):\n",
    "    try:\n",
    "        if r>100:\n",
    "            interst=(amt*yr*r)/100\n",
    "            print(interst)\n",
    "        else:\n",
    "            print(interst)\n",
    "    except:\n",
    "        print('error occure')\n",
    "    finally:\n",
    "        print('program over')\n",
    "si(800,6,8)"
   ]
  },
  {
   "cell_type": "code",
   "execution_count": null,
   "id": "69dfd632",
   "metadata": {},
   "outputs": [],
   "source": []
  }
 ],
 "metadata": {
  "kernelspec": {
   "display_name": "Python 3 (ipykernel)",
   "language": "python",
   "name": "python3"
  },
  "language_info": {
   "codemirror_mode": {
    "name": "ipython",
    "version": 3
   },
   "file_extension": ".py",
   "mimetype": "text/x-python",
   "name": "python",
   "nbconvert_exporter": "python",
   "pygments_lexer": "ipython3",
   "version": "3.9.13"
  }
 },
 "nbformat": 4,
 "nbformat_minor": 5
}
