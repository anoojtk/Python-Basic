{
 "cells": [
  {
   "cell_type": "markdown",
   "id": "4a30e076",
   "metadata": {},
   "source": [
    "# whileloop"
   ]
  },
  {
   "cell_type": "code",
   "execution_count": 11,
   "id": "0c64a38d",
   "metadata": {},
   "outputs": [
    {
     "name": "stdout",
     "output_type": "stream",
     "text": [
      "1\n",
      "2\n",
      "3\n",
      "4\n",
      "5\n",
      "6\n"
     ]
    }
   ],
   "source": [
    "n=6\n",
    "i=1\n",
    "while i<=n:\n",
    "    print(i)\n",
    "    i=i+1"
   ]
  },
  {
   "cell_type": "code",
   "execution_count": 17,
   "id": "7b4a1d0b",
   "metadata": {},
   "outputs": [
    {
     "name": "stdout",
     "output_type": "stream",
     "text": [
      "6\n",
      "5\n",
      "4\n",
      "3\n",
      "2\n",
      "1\n"
     ]
    }
   ],
   "source": [
    "n=1\n",
    "i=6\n",
    "while i>=n:\n",
    "    print(i)\n",
    "    i=i-1"
   ]
  },
  {
   "cell_type": "markdown",
   "id": "20bcb859",
   "metadata": {},
   "source": [
    "# function"
   ]
  },
  {
   "cell_type": "code",
   "execution_count": 19,
   "id": "60e10218",
   "metadata": {},
   "outputs": [
    {
     "name": "stdout",
     "output_type": "stream",
     "text": [
      "20\n"
     ]
    }
   ],
   "source": [
    "def mydef():\n",
    "    a=10\n",
    "    b=10\n",
    "    c=a+b\n",
    "    print(a+b)\n",
    "mydef()"
   ]
  },
  {
   "cell_type": "code",
   "execution_count": 21,
   "id": "62e2a485",
   "metadata": {},
   "outputs": [
    {
     "name": "stdout",
     "output_type": "stream",
     "text": [
      "function call\n"
     ]
    }
   ],
   "source": [
    "def newone_def():\n",
    "    a='function call'\n",
    "    print(a)\n",
    "newone_def()"
   ]
  },
  {
   "cell_type": "code",
   "execution_count": 22,
   "id": "741a8dcb",
   "metadata": {},
   "outputs": [
    {
     "name": "stdout",
     "output_type": "stream",
     "text": [
      "anooj good morning\n"
     ]
    }
   ],
   "source": [
    "def function(name,greet):\n",
    "    print(name,greet)\n",
    "function('anooj','good morning')"
   ]
  },
  {
   "cell_type": "code",
   "execution_count": 25,
   "id": "d85e5fbe",
   "metadata": {},
   "outputs": [
    {
     "name": "stdout",
     "output_type": "stream",
     "text": [
      "anooj good afternoon\n",
      "akash good evening\n"
     ]
    }
   ],
   "source": [
    "def function(name,greet='good afternoon'):\n",
    "    print(name,greet)\n",
    "function('anooj')\n",
    "function('akash','good evening')\n"
   ]
  },
  {
   "cell_type": "code",
   "execution_count": null,
   "id": "78e6dfb3",
   "metadata": {},
   "outputs": [],
   "source": []
  }
 ],
 "metadata": {
  "kernelspec": {
   "display_name": "Python 3 (ipykernel)",
   "language": "python",
   "name": "python3"
  },
  "language_info": {
   "codemirror_mode": {
    "name": "ipython",
    "version": 3
   },
   "file_extension": ".py",
   "mimetype": "text/x-python",
   "name": "python",
   "nbconvert_exporter": "python",
   "pygments_lexer": "ipython3",
   "version": "3.9.13"
  }
 },
 "nbformat": 4,
 "nbformat_minor": 5
}
