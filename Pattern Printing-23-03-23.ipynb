{
 "cells": [
  {
   "cell_type": "code",
   "execution_count": 4,
   "id": "dbd7b1c7",
   "metadata": {},
   "outputs": [
    {
     "name": "stdout",
     "output_type": "stream",
     "text": [
      "enter a number5\n",
      "* \n",
      "* * \n",
      "* * * \n",
      "* * * * \n",
      "* * * * * \n",
      "* * * * * * \n"
     ]
    }
   ],
   "source": [
    "a=int(input('enter a number'))\n",
    "for i in range(a+1):\n",
    "    for j in range(i+1):\n",
    "        print('*',end=' ')\n",
    "    print()"
   ]
  },
  {
   "cell_type": "code",
   "execution_count": 14,
   "id": "d3f8a9c3",
   "metadata": {},
   "outputs": [
    {
     "name": "stdout",
     "output_type": "stream",
     "text": [
      "enter a number5\n",
      "        * \n",
      "      * * \n",
      "    * * * \n",
      "  * * * * \n",
      "* * * * * \n"
     ]
    }
   ],
   "source": [
    "a=int(input('enter a number'))\n",
    "b= 2 *a - 2\n",
    "for i in range(0,a):\n",
    "    for j in range(0, b):\n",
    "        print(end=\" \")\n",
    "    b = b- 2\n",
    "    for j in range(0, i + 1):\n",
    "        print(\"* \", end='')\n",
    "    print(\"\")\n",
    "    "
   ]
  },
  {
   "cell_type": "code",
   "execution_count": 34,
   "id": "8b39be82",
   "metadata": {},
   "outputs": [
    {
     "name": "stdout",
     "output_type": "stream",
     "text": [
      "enter a number5\n",
      "        *   \n",
      "       *  *   \n",
      "      *  *  *   \n",
      "     *  *  *  *   \n",
      "    *  *  *  *  *   \n"
     ]
    }
   ],
   "source": [
    "a=int(input('enter a number'))\n",
    "c= (2 * a) - 2\n",
    "for i in range(0, a):\n",
    "    for j in range(0, c):\n",
    "        print(end=\" \")\n",
    "    c = c - 1\n",
    "    for j in range(0, i + 1):\n",
    "        print(\"* \", end=' ')\n",
    "    print(\" \")"
   ]
  },
  {
   "cell_type": "code",
   "execution_count": 35,
   "id": "c21d3b22",
   "metadata": {},
   "outputs": [
    {
     "name": "stdout",
     "output_type": "stream",
     "text": [
      "enter a number5\n",
      "1 \n",
      "1 2 \n",
      "1 2 3 \n",
      "1 2 3 4 \n",
      "1 2 3 4 5 \n"
     ]
    }
   ],
   "source": [
    "a =int(input('enter a number'))\n",
    "for i in range(1, a + 1):\n",
    "    for j in range(1, i + 1):\n",
    "        print(j, end=' ')\n",
    "    print('')"
   ]
  },
  {
   "cell_type": "code",
   "execution_count": 39,
   "id": "0836852c",
   "metadata": {},
   "outputs": [
    {
     "name": "stdout",
     "output_type": "stream",
     "text": [
      "enter a number65\n",
      "A  \n",
      "B C  \n",
      "D E F  \n",
      "G H I J  \n",
      "K L M N O  \n"
     ]
    }
   ],
   "source": [
    "a=int(input('enter a number'))\n",
    "rows = 5\n",
    "for i in range(0, rows):\n",
    "    for j in range(0, i + 1):\n",
    "        character = chr(a)\n",
    "        print(character, end=' ')\n",
    "        a += 1\n",
    "    print(\" \")"
   ]
  },
  {
   "cell_type": "code",
   "execution_count": 40,
   "id": "871fe8dc",
   "metadata": {},
   "outputs": [
    {
     "name": "stdout",
     "output_type": "stream",
     "text": [
      "A\n",
      "AB\n",
      "ABC\n",
      "ABCD\n",
      "ABCDE\n"
     ]
    }
   ],
   "source": [
    "a= \"ABCDE\"\n",
    "x = \"\"\n",
    "for i in a:\n",
    "    x += i\n",
    "    print(x)"
   ]
  },
  {
   "cell_type": "code",
   "execution_count": 46,
   "id": "890a6f92",
   "metadata": {},
   "outputs": [
    {
     "name": "stdout",
     "output_type": "stream",
     "text": [
      "1 \n",
      "2 3 \n",
      "4 5 6 \n",
      "7 8 9 10 \n",
      "11 12 13 14 15 \n"
     ]
    }
   ],
   "source": [
    "a = 1\n",
    "b = 2\n",
    "c = 5\n",
    "\n",
    "for i in range(c):\n",
    "    for column in range(1, b):\n",
    "        print(a, end=' ')\n",
    "        a += 1\n",
    "    print(\"\")\n",
    "    b += 1"
   ]
  },
  {
   "cell_type": "code",
   "execution_count": null,
   "id": "cc7b9b9b",
   "metadata": {},
   "outputs": [],
   "source": []
  }
 ],
 "metadata": {
  "kernelspec": {
   "display_name": "Python 3 (ipykernel)",
   "language": "python",
   "name": "python3"
  },
  "language_info": {
   "codemirror_mode": {
    "name": "ipython",
    "version": 3
   },
   "file_extension": ".py",
   "mimetype": "text/x-python",
   "name": "python",
   "nbconvert_exporter": "python",
   "pygments_lexer": "ipython3",
   "version": "3.9.13"
  }
 },
 "nbformat": 4,
 "nbformat_minor": 5
}
