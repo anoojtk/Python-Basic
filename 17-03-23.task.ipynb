{
 "cells": [
  {
   "cell_type": "markdown",
   "id": "4e006149",
   "metadata": {},
   "source": [
    "# Using anonymous function"
   ]
  },
  {
   "cell_type": "markdown",
   "id": "93866a3f",
   "metadata": {},
   "source": [
    "1.Program to Find Numbers Divisible by Another Number"
   ]
  },
  {
   "cell_type": "code",
   "execution_count": 2,
   "id": "295a1070",
   "metadata": {},
   "outputs": [
    {
     "name": "stdout",
     "output_type": "stream",
     "text": [
      "[4, 8, 12, 16, 20]\n"
     ]
    }
   ],
   "source": [
    "ab=[*range(1,21)]\n",
    "lis=list(filter(lambda x:x%4==0,ab))\n",
    "print(lis)"
   ]
  },
  {
   "cell_type": "markdown",
   "id": "fda979ab",
   "metadata": {},
   "source": [
    "2.program that prints the squares of numbers in a given list"
   ]
  },
  {
   "cell_type": "code",
   "execution_count": 4,
   "id": "d066aa40",
   "metadata": {},
   "outputs": [
    {
     "name": "stdout",
     "output_type": "stream",
     "text": [
      "[4, 36, 100, 196, 324, 484, 676, 900, 1156, 1444]\n"
     ]
    }
   ],
   "source": [
    "a=[*range(2,41,4)]\n",
    "n=list(map(lambda x:x**2,a))\n",
    "print(n)"
   ]
  },
  {
   "cell_type": "markdown",
   "id": "0d24b07c",
   "metadata": {},
   "source": [
    "# Create a function showEmployee()"
   ]
  },
  {
   "cell_type": "markdown",
   "id": "9e472323",
   "metadata": {},
   "source": [
    "*  Create a function showEmployee() in such a way that it should accept employee name, and its salary and display both. If the salary is missing in the function call assign default value 9000 to salary"
   ]
  },
  {
   "cell_type": "code",
   "execution_count": 15,
   "id": "7f0b8d7f",
   "metadata": {},
   "outputs": [
    {
     "name": "stdout",
     "output_type": "stream",
     "text": [
      "enter nameakash\n",
      "akash\n",
      "10000\n",
      "akash\n",
      "9000\n"
     ]
    }
   ],
   "source": [
    "def show_employee(name,salary=9000):\n",
    "    print(name)\n",
    "    print(salary)\n",
    "b=input('enter name')\n",
    "show_employee(b,10000)\n",
    "show_employee(b)\n",
    "            "
   ]
  },
  {
   "cell_type": "markdown",
   "id": "1f333278",
   "metadata": {},
   "source": [
    "* create a Simple Calculator using python"
   ]
  },
  {
   "cell_type": "code",
   "execution_count": null,
   "id": "d4f96b35",
   "metadata": {},
   "outputs": [],
   "source": [
    "def fun(a,b):\n",
    "    add=a+b\n",
    "    print('addition',a,b)\n",
    "    mul=a*b\n",
    "    print('multiplication,'a,b)\n"
   ]
  },
  {
   "cell_type": "markdown",
   "id": "46818bc5",
   "metadata": {},
   "source": [
    "1. Write a program which will find all such numbers which are divisible by 7 but are not a multiple of 5,\n",
    "between 2000 and 3200 (both included)."
   ]
  },
  {
   "cell_type": "code",
   "execution_count": 17,
   "id": "a838d8c2",
   "metadata": {},
   "outputs": [
    {
     "name": "stdout",
     "output_type": "stream",
     "text": [
      "[2030, 2065, 2100, 2135, 2170, 2205, 2240, 2275, 2310, 2345, 2380, 2415, 2450, 2485, 2520, 2555, 2590, 2625, 2660, 2695, 2730, 2765, 2800, 2835, 2870, 2905, 2940, 2975, 3010, 3045, 3080, 3115, 3150, 3185]\n"
     ]
    }
   ],
   "source": [
    "n=[]\n",
    "for i in range(2000,3200):\n",
    "    if(i%7==0) and (i%5==0):\n",
    "        n.append(i)\n",
    "print(n)"
   ]
  },
  {
   "cell_type": "markdown",
   "id": "e9a3971c",
   "metadata": {},
   "source": [
    "2. With a given integral number n, write a program to generate a dictionary that contains (i, i*i) such that is an integral number between 1 and n (both included). and then the program should print the dictionary.Suppose the following input is supplied to the program:8.Then, the output should be:{1: 1, 2: 4, 3: 9, 4: 16, 5: 25, 6: 36, 7: 49, 8: 64}Hints:In case of input data being supplied to the question, it should be assumed to be a console input.Consider use dict()"
   ]
  },
  {
   "cell_type": "code",
   "execution_count": 18,
   "id": "a3d02f7f",
   "metadata": {},
   "outputs": [
    {
     "name": "stdout",
     "output_type": "stream",
     "text": [
      "enter a number8\n",
      "{1: 1, 2: 4, 3: 9, 4: 16, 5: 25, 6: 36, 7: 49, 8: 64, 9: 81, 10: 100}\n"
     ]
    }
   ],
   "source": [
    "n=int(input('enter a number'))\n",
    "a={}\n",
    "for i in range(1,11):\n",
    "    a[i]=i*i\n",
    "print(a)"
   ]
  },
  {
   "cell_type": "markdown",
   "id": "c0c50a6b",
   "metadata": {},
   "source": [
    "3. Write a program which accepts a sequence of comma-separated numbers from console and generate a list and a tuple which contains every number.\n",
    "Suppose the following input is supplied to the program:\n",
    "34,67,55,33,12,98\n",
    "Then, the output should be:\n",
    "['34', '67', '55', '33', '12', '98']\n",
    "('34', '67', '55', '33', '12', '98')\n",
    "\n",
    "Hints:\n",
    "In case of input data being supplied to the question, it should be assumed to be a console input.\n",
    "tuple() method can convert list to tuple"
   ]
  },
  {
   "cell_type": "code",
   "execution_count": 22,
   "id": "6400c685",
   "metadata": {},
   "outputs": [
    {
     "name": "stdout",
     "output_type": "stream",
     "text": [
      "enter comma separated number1,2,3,4,5,6,7,8,9\n",
      "list; ['1', '2', '3', '4', '5', '6', '7', '8', '9']\n",
      "tuple ('1', '2', '3', '4', '5', '6', '7', '8', '9')\n"
     ]
    }
   ],
   "source": [
    "a=input('enter comma separated number')\n",
    "lis=a.split(',')\n",
    "tu=tuple(lis)\n",
    "print('list;',list(lis))\n",
    "print('tuple',tu)"
   ]
  },
  {
   "cell_type": "markdown",
   "id": "d76c7c70",
   "metadata": {},
   "source": [
    "5. Write a program that accepts a comma separated sequence of words as input and prints the words in a comma-separated sequence after sorting them alphabetically.\n",
    "Suppose the following input is supplied to the program:\n",
    "without,hello,bag,world\n",
    "Then, the output should be:\n",
    "bag,hello,without,world"
   ]
  },
  {
   "cell_type": "code",
   "execution_count": 31,
   "id": "0ab29c61",
   "metadata": {},
   "outputs": [
    {
     "name": "stdout",
     "output_type": "stream",
     "text": [
      "enter comma separated sequence of wordsbag,hello,without,world\n",
      "['bag', 'hello', 'without', 'world']\n"
     ]
    }
   ],
   "source": [
    "sq=input('enter comma separated sequence of words')\n",
    "a=sq.split(',')\n",
    "print(str(sorted(a)))"
   ]
  },
  {
   "cell_type": "markdown",
   "id": "b540923a",
   "metadata": {},
   "source": [
    "6. Write a program that accepts sequence of lines as input and prints the lines after making all characters in the sentence capitalized.\n",
    "Suppose the following input is supplied to the program:\n",
    "Hello world\n",
    "Practice makes perfect\n",
    "Then, the output should be:\n",
    "HELLO WORLD\n",
    "PRACTICE MAKES PERFECT\n",
    "\n"
   ]
  },
  {
   "cell_type": "code",
   "execution_count": 33,
   "id": "59c69a5a",
   "metadata": {},
   "outputs": [
    {
     "name": "stdout",
     "output_type": "stream",
     "text": [
      "enter a wordhello world practice makes perfect\n",
      "HELLO WORLD PRACTICE MAKES PERFECT\n"
     ]
    }
   ],
   "source": [
    "cap= input('enter a word')\n",
    "b=cap.upper()\n",
    "print(b)"
   ]
  },
  {
   "cell_type": "code",
   "execution_count": 4,
   "id": "e08d16e5",
   "metadata": {},
   "outputs": [
    {
     "name": "stdout",
     "output_type": "stream",
     "text": [
      "enter a number19\n",
      "second number10\n",
      "enter your opertor+\n",
      "29\n"
     ]
    }
   ],
   "source": [
    "e=int(input('enter a number'))\n",
    "f=int(input('second number'))\n",
    "c=input('enter your opertor')\n",
    "if c=='+':\n",
    "    print(e+f)\n",
    "elif c=='-':\n",
    "    print(e-f)\n",
    "elif c=='*':\n",
    "    print(e*f)\n",
    "elif c=='/':\n",
    "    print(e/f)\n"
   ]
  },
  {
   "cell_type": "code",
   "execution_count": null,
   "id": "51fbd37b",
   "metadata": {},
   "outputs": [],
   "source": [
    "\n"
   ]
  }
 ],
 "metadata": {
  "kernelspec": {
   "display_name": "Python 3 (ipykernel)",
   "language": "python",
   "name": "python3"
  },
  "language_info": {
   "codemirror_mode": {
    "name": "ipython",
    "version": 3
   },
   "file_extension": ".py",
   "mimetype": "text/x-python",
   "name": "python",
   "nbconvert_exporter": "python",
   "pygments_lexer": "ipython3",
   "version": "3.9.13"
  }
 },
 "nbformat": 4,
 "nbformat_minor": 5
}
